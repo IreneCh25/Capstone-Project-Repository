{
    "nbformat_minor": 1, 
    "cells": [
        {
            "source": "# Segmenting and Clustering Neighborhoods in Toronto", 
            "cell_type": "markdown", 
            "metadata": {
                "collapsed": true
            }
        }, 
        {
            "source": "# using requests load given web-page into object page \nimport requests\npage = requests.get(\"https://en.wikipedia.org/wiki/List_of_postal_codes_of_Canada:_M\")\npage", 
            "cell_type": "code", 
            "metadata": {}, 
            "outputs": [
                {
                    "output_type": "execute_result", 
                    "data": {
                        "text/plain": "<Response [200]>"
                    }, 
                    "execution_count": 21, 
                    "metadata": {}
                }
            ], 
            "execution_count": 21
        }, 
        {
            "source": "import pandas as pd", 
            "cell_type": "code", 
            "metadata": {}, 
            "outputs": [], 
            "execution_count": 22
        }, 
        {
            "source": "!pip install beautifulsoup4", 
            "cell_type": "code", 
            "metadata": {}, 
            "outputs": [
                {
                    "output_type": "stream", 
                    "name": "stdout", 
                    "text": "Requirement already satisfied: beautifulsoup4 in /opt/conda/envs/DSX-Python35/lib/python3.5/site-packages (4.6.0)\n\u001b[31mtensorflow 1.3.0 requires tensorflow-tensorboard<0.2.0,>=0.1.0, which is not installed.\u001b[0m\n"
                }
            ], 
            "execution_count": 23
        }, 
        {
            "source": "!conda install -c anaconda beautifulsoup4", 
            "cell_type": "code", 
            "metadata": {}, 
            "outputs": [
                {
                    "output_type": "stream", 
                    "name": "stdout", 
                    "text": "Solving environment: done\n\n## Package Plan ##\n\n  environment location: /opt/conda/envs/DSX-Python35\n\n  added / updated specs: \n    - beautifulsoup4\n\n\nThe following packages will be downloaded:\n\n    package                    |            build\n    ---------------------------|-----------------\n    openssl-1.0.2s             |       h7b6447c_0         3.1 MB  anaconda\n    certifi-2018.8.24          |           py35_1         139 KB  anaconda\n    ca-certificates-2019.5.15  |                0         133 KB  anaconda\n    beautifulsoup4-4.6.3       |           py35_0         140 KB  anaconda\n    ------------------------------------------------------------\n                                           Total:         3.5 MB\n\nThe following packages will be UPDATED:\n\n    beautifulsoup4:  4.6.0-py35h442a8c9_1 --> 4.6.3-py35_0      anaconda\n    ca-certificates: 2019.1.23-0          --> 2019.5.15-0       anaconda\n    certifi:         2018.8.24-py35_1     --> 2018.8.24-py35_1  anaconda\n    openssl:         1.0.2s-h7b6447c_0    --> 1.0.2s-h7b6447c_0 anaconda\n\n\nDownloading and Extracting Packages\nopenssl-1.0.2s       | 3.1 MB    | ##################################### | 100% \ncertifi-2018.8.24    | 139 KB    | ##################################### | 100% \nca-certificates-2019 | 133 KB    | ##################################### | 100% \nbeautifulsoup4-4.6.3 | 140 KB    | ##################################### | 100% \nPreparing transaction: done\nVerifying transaction: done\nExecuting transaction: done\n"
                }
            ], 
            "execution_count": 24
        }, 
        {
            "source": "#here we parse page content\n#page.content\nfrom bs4 import BeautifulSoup\nsoup = BeautifulSoup(page.content, 'html.parser')", 
            "cell_type": "code", 
            "metadata": {}, 
            "outputs": [], 
            "execution_count": 25
        }, 
        {
            "source": "#print(soup.prettify())", 
            "cell_type": "code", 
            "metadata": {}, 
            "outputs": [], 
            "execution_count": 26
        }, 
        {
            "source": "#Let's create dataframe for our data. It consists of 3 columns  \nCACodeDf = pd.DataFrame(columns=[\"PostalCode\", \"Borough\", \"Neighborhood\"])", 
            "cell_type": "code", 
            "metadata": {}, 
            "outputs": [], 
            "execution_count": 27
        }, 
        {
            "source": "#And finaly, let's load data from our page into dataframe  CACodeDf\ni = 0\nfor tr in soup.find_all('tr', text=True)[1:]:\n    tds = tr.find_all('td')  \n    my_str = tds[2].text.replace('\\n', '')\n    CACodeDf.loc[i] = [tds[0].text]+ [tds[1].text] + [my_str]\n    i = i+1\n    #print(tds[0].text)\nprint      (\"done\")", 
            "cell_type": "code", 
            "metadata": {}, 
            "outputs": [
                {
                    "output_type": "stream", 
                    "name": "stdout", 
                    "text": "done\n"
                }
            ], 
            "execution_count": 32
        }, 
        {
            "source": "CACodeDf.head(10)", 
            "cell_type": "code", 
            "metadata": {}, 
            "outputs": [
                {
                    "output_type": "execute_result", 
                    "data": {
                        "text/html": "<div>\n<style scoped>\n    .dataframe tbody tr th:only-of-type {\n        vertical-align: middle;\n    }\n\n    .dataframe tbody tr th {\n        vertical-align: top;\n    }\n\n    .dataframe thead th {\n        text-align: right;\n    }\n</style>\n<table border=\"1\" class=\"dataframe\">\n  <thead>\n    <tr style=\"text-align: right;\">\n      <th></th>\n      <th>PostalCode</th>\n      <th>Borough</th>\n      <th>Neighborhood</th>\n    </tr>\n  </thead>\n  <tbody>\n    <tr>\n      <th>0</th>\n      <td>M1A</td>\n      <td>Not assigned</td>\n      <td>Not assigned</td>\n    </tr>\n    <tr>\n      <th>1</th>\n      <td>M2A</td>\n      <td>Not assigned</td>\n      <td>Not assigned</td>\n    </tr>\n    <tr>\n      <th>2</th>\n      <td>M3A</td>\n      <td>North York</td>\n      <td>Parkwoods</td>\n    </tr>\n    <tr>\n      <th>3</th>\n      <td>M4A</td>\n      <td>North York</td>\n      <td>Victoria Village</td>\n    </tr>\n    <tr>\n      <th>4</th>\n      <td>M5A</td>\n      <td>Downtown Toronto</td>\n      <td>Harbourfront</td>\n    </tr>\n    <tr>\n      <th>5</th>\n      <td>M5A</td>\n      <td>Downtown Toronto</td>\n      <td>Regent Park</td>\n    </tr>\n    <tr>\n      <th>6</th>\n      <td>M6A</td>\n      <td>North York</td>\n      <td>Lawrence Heights</td>\n    </tr>\n    <tr>\n      <th>7</th>\n      <td>M6A</td>\n      <td>North York</td>\n      <td>Lawrence Manor</td>\n    </tr>\n    <tr>\n      <th>8</th>\n      <td>M7A</td>\n      <td>Queen's Park</td>\n      <td>Not assigned</td>\n    </tr>\n    <tr>\n      <th>9</th>\n      <td>M8A</td>\n      <td>Not assigned</td>\n      <td>Not assigned</td>\n    </tr>\n  </tbody>\n</table>\n</div>", 
                        "text/plain": "  PostalCode           Borough      Neighborhood\n0        M1A      Not assigned      Not assigned\n1        M2A      Not assigned      Not assigned\n2        M3A        North York         Parkwoods\n3        M4A        North York  Victoria Village\n4        M5A  Downtown Toronto      Harbourfront\n5        M5A  Downtown Toronto       Regent Park\n6        M6A        North York  Lawrence Heights\n7        M6A        North York    Lawrence Manor\n8        M7A      Queen's Park      Not assigned\n9        M8A      Not assigned      Not assigned"
                    }, 
                    "execution_count": 33, 
                    "metadata": {}
                }
            ], 
            "execution_count": 33
        }, 
        {
            "source": "CACodeDf.shape", 
            "cell_type": "code", 
            "metadata": {}, 
            "outputs": [
                {
                    "output_type": "execute_result", 
                    "data": {
                        "text/plain": "(288, 3)"
                    }, 
                    "execution_count": 34, 
                    "metadata": {}
                }
            ], 
            "execution_count": 34
        }, 
        {
            "source": "#Now , since we have dataframe filled with all necessary data, we should clear it from inappropriate rows\nCACodeDf = CACodeDf[CACodeDf.Borough != \"Not assigned\"]\nCACodeDf.head(10) ", 
            "cell_type": "code", 
            "metadata": {}, 
            "outputs": [
                {
                    "output_type": "execute_result", 
                    "data": {
                        "text/html": "<div>\n<style scoped>\n    .dataframe tbody tr th:only-of-type {\n        vertical-align: middle;\n    }\n\n    .dataframe tbody tr th {\n        vertical-align: top;\n    }\n\n    .dataframe thead th {\n        text-align: right;\n    }\n</style>\n<table border=\"1\" class=\"dataframe\">\n  <thead>\n    <tr style=\"text-align: right;\">\n      <th></th>\n      <th>PostalCode</th>\n      <th>Borough</th>\n      <th>Neighborhood</th>\n    </tr>\n  </thead>\n  <tbody>\n    <tr>\n      <th>2</th>\n      <td>M3A</td>\n      <td>North York</td>\n      <td>Parkwoods</td>\n    </tr>\n    <tr>\n      <th>3</th>\n      <td>M4A</td>\n      <td>North York</td>\n      <td>Victoria Village</td>\n    </tr>\n    <tr>\n      <th>4</th>\n      <td>M5A</td>\n      <td>Downtown Toronto</td>\n      <td>Harbourfront</td>\n    </tr>\n    <tr>\n      <th>5</th>\n      <td>M5A</td>\n      <td>Downtown Toronto</td>\n      <td>Regent Park</td>\n    </tr>\n    <tr>\n      <th>6</th>\n      <td>M6A</td>\n      <td>North York</td>\n      <td>Lawrence Heights</td>\n    </tr>\n    <tr>\n      <th>7</th>\n      <td>M6A</td>\n      <td>North York</td>\n      <td>Lawrence Manor</td>\n    </tr>\n    <tr>\n      <th>8</th>\n      <td>M7A</td>\n      <td>Queen's Park</td>\n      <td>Not assigned</td>\n    </tr>\n    <tr>\n      <th>10</th>\n      <td>M9A</td>\n      <td>Etobicoke</td>\n      <td>Islington Avenue</td>\n    </tr>\n    <tr>\n      <th>11</th>\n      <td>M1B</td>\n      <td>Scarborough</td>\n      <td>Rouge</td>\n    </tr>\n    <tr>\n      <th>12</th>\n      <td>M1B</td>\n      <td>Scarborough</td>\n      <td>Malvern</td>\n    </tr>\n  </tbody>\n</table>\n</div>", 
                        "text/plain": "   PostalCode           Borough      Neighborhood\n2         M3A        North York         Parkwoods\n3         M4A        North York  Victoria Village\n4         M5A  Downtown Toronto      Harbourfront\n5         M5A  Downtown Toronto       Regent Park\n6         M6A        North York  Lawrence Heights\n7         M6A        North York    Lawrence Manor\n8         M7A      Queen's Park      Not assigned\n10        M9A         Etobicoke  Islington Avenue\n11        M1B       Scarborough             Rouge\n12        M1B       Scarborough           Malvern"
                    }, 
                    "execution_count": 35, 
                    "metadata": {}
                }
            ], 
            "execution_count": 35
        }, 
        {
            "source": "CACodeDf.shape", 
            "cell_type": "code", 
            "metadata": {}, 
            "outputs": [
                {
                    "output_type": "execute_result", 
                    "metadata": {}, 
                    "data": {
                        "text/plain": "(211, 3)"
                    }, 
                    "execution_count": 10
                }
            ], 
            "execution_count": 10
        }, 
        {
            "source": "CACodeDf.loc[CACodeDf['Neighborhood'] == \"Not assigned\", ['Neighborhood']] = CACodeDf['Borough']\nCACodeDf.head()", 
            "cell_type": "code", 
            "metadata": {}, 
            "outputs": [
                {
                    "output_type": "execute_result", 
                    "data": {
                        "text/html": "<div>\n<style scoped>\n    .dataframe tbody tr th:only-of-type {\n        vertical-align: middle;\n    }\n\n    .dataframe tbody tr th {\n        vertical-align: top;\n    }\n\n    .dataframe thead th {\n        text-align: right;\n    }\n</style>\n<table border=\"1\" class=\"dataframe\">\n  <thead>\n    <tr style=\"text-align: right;\">\n      <th></th>\n      <th>PostalCode</th>\n      <th>Borough</th>\n      <th>Neighborhood</th>\n    </tr>\n  </thead>\n  <tbody>\n    <tr>\n      <th>2</th>\n      <td>M3A</td>\n      <td>North York</td>\n      <td>Parkwoods</td>\n    </tr>\n    <tr>\n      <th>3</th>\n      <td>M4A</td>\n      <td>North York</td>\n      <td>Victoria Village</td>\n    </tr>\n    <tr>\n      <th>4</th>\n      <td>M5A</td>\n      <td>Downtown Toronto</td>\n      <td>Harbourfront</td>\n    </tr>\n    <tr>\n      <th>5</th>\n      <td>M5A</td>\n      <td>Downtown Toronto</td>\n      <td>Regent Park</td>\n    </tr>\n    <tr>\n      <th>6</th>\n      <td>M6A</td>\n      <td>North York</td>\n      <td>Lawrence Heights</td>\n    </tr>\n  </tbody>\n</table>\n</div>", 
                        "text/plain": "  PostalCode           Borough      Neighborhood\n2        M3A        North York         Parkwoods\n3        M4A        North York  Victoria Village\n4        M5A  Downtown Toronto      Harbourfront\n5        M5A  Downtown Toronto       Regent Park\n6        M6A        North York  Lawrence Heights"
                    }, 
                    "execution_count": 36, 
                    "metadata": {}
                }
            ], 
            "execution_count": 36
        }, 
        {
            "source": "CACodeDf.shape", 
            "cell_type": "code", 
            "metadata": {}, 
            "outputs": [
                {
                    "output_type": "execute_result", 
                    "data": {
                        "text/plain": "(211, 3)"
                    }, 
                    "execution_count": 37, 
                    "metadata": {}
                }
            ], 
            "execution_count": 37
        }, 
        {
            "source": "df = CACodeDf[['PostalCode','Borough']]\n#df.drop_duplicates()\ndf=df.drop_duplicates(['PostalCode','Borough'])[['PostalCode','Borough']]\ndf['Neighborhood'] = df.apply(lambda row: \"\", axis=1)\ndf.head(10)\n#df.shape", 
            "cell_type": "code", 
            "metadata": {}, 
            "outputs": [
                {
                    "output_type": "execute_result", 
                    "data": {
                        "text/html": "<div>\n<style scoped>\n    .dataframe tbody tr th:only-of-type {\n        vertical-align: middle;\n    }\n\n    .dataframe tbody tr th {\n        vertical-align: top;\n    }\n\n    .dataframe thead th {\n        text-align: right;\n    }\n</style>\n<table border=\"1\" class=\"dataframe\">\n  <thead>\n    <tr style=\"text-align: right;\">\n      <th></th>\n      <th>PostalCode</th>\n      <th>Borough</th>\n      <th>Neighborhood</th>\n    </tr>\n  </thead>\n  <tbody>\n    <tr>\n      <th>2</th>\n      <td>M3A</td>\n      <td>North York</td>\n      <td></td>\n    </tr>\n    <tr>\n      <th>3</th>\n      <td>M4A</td>\n      <td>North York</td>\n      <td></td>\n    </tr>\n    <tr>\n      <th>4</th>\n      <td>M5A</td>\n      <td>Downtown Toronto</td>\n      <td></td>\n    </tr>\n    <tr>\n      <th>6</th>\n      <td>M6A</td>\n      <td>North York</td>\n      <td></td>\n    </tr>\n    <tr>\n      <th>8</th>\n      <td>M7A</td>\n      <td>Queen's Park</td>\n      <td></td>\n    </tr>\n    <tr>\n      <th>10</th>\n      <td>M9A</td>\n      <td>Etobicoke</td>\n      <td></td>\n    </tr>\n    <tr>\n      <th>11</th>\n      <td>M1B</td>\n      <td>Scarborough</td>\n      <td></td>\n    </tr>\n    <tr>\n      <th>14</th>\n      <td>M3B</td>\n      <td>North York</td>\n      <td></td>\n    </tr>\n    <tr>\n      <th>15</th>\n      <td>M4B</td>\n      <td>East York</td>\n      <td></td>\n    </tr>\n    <tr>\n      <th>17</th>\n      <td>M5B</td>\n      <td>Downtown Toronto</td>\n      <td></td>\n    </tr>\n  </tbody>\n</table>\n</div>", 
                        "text/plain": "   PostalCode           Borough Neighborhood\n2         M3A        North York             \n3         M4A        North York             \n4         M5A  Downtown Toronto             \n6         M6A        North York             \n8         M7A      Queen's Park             \n10        M9A         Etobicoke             \n11        M1B       Scarborough             \n14        M3B        North York             \n15        M4B         East York             \n17        M5B  Downtown Toronto             "
                    }, 
                    "execution_count": 38, 
                    "metadata": {}
                }
            ], 
            "execution_count": 38
        }, 
        {
            "source": "for index, row in df.iterrows():\n    my_str = ''\n    for index2, row2 in CACodeDf.iterrows():\n        if row2['PostalCode'] == row['PostalCode'] and row2['Borough'] == row['Borough']:\n            my_str = row2['Neighborhood']+\",\"+my_str\n    row['Neighborhood'] = my_str[:-1]\ndf.head(10)     ", 
            "cell_type": "code", 
            "metadata": {}, 
            "outputs": [
                {
                    "output_type": "execute_result", 
                    "data": {
                        "text/html": "<div>\n<style scoped>\n    .dataframe tbody tr th:only-of-type {\n        vertical-align: middle;\n    }\n\n    .dataframe tbody tr th {\n        vertical-align: top;\n    }\n\n    .dataframe thead th {\n        text-align: right;\n    }\n</style>\n<table border=\"1\" class=\"dataframe\">\n  <thead>\n    <tr style=\"text-align: right;\">\n      <th></th>\n      <th>PostalCode</th>\n      <th>Borough</th>\n      <th>Neighborhood</th>\n    </tr>\n  </thead>\n  <tbody>\n    <tr>\n      <th>2</th>\n      <td>M3A</td>\n      <td>North York</td>\n      <td>Parkwoods</td>\n    </tr>\n    <tr>\n      <th>3</th>\n      <td>M4A</td>\n      <td>North York</td>\n      <td>Victoria Village</td>\n    </tr>\n    <tr>\n      <th>4</th>\n      <td>M5A</td>\n      <td>Downtown Toronto</td>\n      <td>Regent Park,Harbourfront</td>\n    </tr>\n    <tr>\n      <th>6</th>\n      <td>M6A</td>\n      <td>North York</td>\n      <td>Lawrence Manor,Lawrence Heights</td>\n    </tr>\n    <tr>\n      <th>8</th>\n      <td>M7A</td>\n      <td>Queen's Park</td>\n      <td>Queen's Park</td>\n    </tr>\n    <tr>\n      <th>10</th>\n      <td>M9A</td>\n      <td>Etobicoke</td>\n      <td>Islington Avenue</td>\n    </tr>\n    <tr>\n      <th>11</th>\n      <td>M1B</td>\n      <td>Scarborough</td>\n      <td>Malvern,Rouge</td>\n    </tr>\n    <tr>\n      <th>14</th>\n      <td>M3B</td>\n      <td>North York</td>\n      <td>Don Mills North</td>\n    </tr>\n    <tr>\n      <th>15</th>\n      <td>M4B</td>\n      <td>East York</td>\n      <td>Parkview Hill,Woodbine Gardens</td>\n    </tr>\n    <tr>\n      <th>17</th>\n      <td>M5B</td>\n      <td>Downtown Toronto</td>\n      <td>Garden District,Ryerson</td>\n    </tr>\n  </tbody>\n</table>\n</div>", 
                        "text/plain": "   PostalCode           Borough                     Neighborhood\n2         M3A        North York                        Parkwoods\n3         M4A        North York                 Victoria Village\n4         M5A  Downtown Toronto         Regent Park,Harbourfront\n6         M6A        North York  Lawrence Manor,Lawrence Heights\n8         M7A      Queen's Park                     Queen's Park\n10        M9A         Etobicoke                 Islington Avenue\n11        M1B       Scarborough                    Malvern,Rouge\n14        M3B        North York                  Don Mills North\n15        M4B         East York   Parkview Hill,Woodbine Gardens\n17        M5B  Downtown Toronto          Garden District,Ryerson"
                    }, 
                    "execution_count": 39, 
                    "metadata": {}
                }
            ], 
            "execution_count": 39
        }, 
        {
            "source": "!wget -O Geospatial_Coordinates.csv https://cocl.us/Geospatial_data", 
            "cell_type": "code", 
            "metadata": {}, 
            "outputs": [
                {
                    "output_type": "stream", 
                    "name": "stdout", 
                    "text": "--2019-06-30 13:26:31--  https://cocl.us/Geospatial_data\nResolving cocl.us (cocl.us)... 169.48.113.201\nConnecting to cocl.us (cocl.us)|169.48.113.201|:443... connected.\nHTTP request sent, awaiting response... 301 Moved Permanently\nLocation: https://ibm.box.com/shared/static/9afzr83pps4pwf2smjjcf1y5mvgb18rr.csv [following]\n--2019-06-30 13:26:31--  https://ibm.box.com/shared/static/9afzr83pps4pwf2smjjcf1y5mvgb18rr.csv\nResolving ibm.box.com (ibm.box.com)... 107.152.27.197\nConnecting to ibm.box.com (ibm.box.com)|107.152.27.197|:443... connected.\nHTTP request sent, awaiting response... 301 Moved Permanently\nLocation: /public/static/9afzr83pps4pwf2smjjcf1y5mvgb18rr.csv [following]\n--2019-06-30 13:26:32--  https://ibm.box.com/public/static/9afzr83pps4pwf2smjjcf1y5mvgb18rr.csv\nReusing existing connection to ibm.box.com:443.\nHTTP request sent, awaiting response... 301 Moved Permanently\nLocation: https://ibm.ent.box.com/public/static/9afzr83pps4pwf2smjjcf1y5mvgb18rr.csv [following]\n--2019-06-30 13:26:32--  https://ibm.ent.box.com/public/static/9afzr83pps4pwf2smjjcf1y5mvgb18rr.csv\nResolving ibm.ent.box.com (ibm.ent.box.com)... 107.152.26.211\nConnecting to ibm.ent.box.com (ibm.ent.box.com)|107.152.26.211|:443... connected.\nHTTP request sent, awaiting response... 302 Found\nLocation: https://public.boxcloud.com/d/1/b1!Jb3h3Gll5TbVSkHAVRkJ6gRgvddmau5NePrJ-QWyhACtvSqtej1ECuB5NUkLcEzTByX0fJXLGqNcfs8gWAPwWLyPW2U9hQNfAy15IM48u-rr71W9Yh6ZWQbuhcS2dl8M4dWN8iSULACBk6dH0y9NO2A-9SrNEEnS9NMDkTEOHd5nPfKbJ3JxSxRy9Vh0huwSNf5EwMRpUe0NvXtGTI8ziyy2mPxgXuaptOROK7mRzoT6XGIi15pDAdsOqu7DaVrE7pztjTnWkiuIx8TyqtsVRrKROiHFPwZo7_y6IuzVwDS5WiC3tC0J7uAP1D88cic5mrf2AqjDmoIomJanUebvOQ-6H2tMPtVH4w1IWFCy8Oi_YoHGKONZXbhD67aU1XkoE1GmNylMlq3FQUB7J1SlN4z2rjZDuaSBYtQ1SLYwAxh_xp-ISWc959biCcEvOTl7et5ueHZchg32d6oq7IVoEjbkxQCdLswlGrabSqNSy2RmXe87xty3w6TZ0z3juyrj-GHE8pkdm3CwopCyB1io4iM3MOyUHr3dpcunVxsv0YDeprsL9SyBMl0kbZeBP5A2l6rXlDQU2UJgqJF0zWiNstQwut-m3JOZqrkV6s3bsXdcxykBn8ruiFfkOJ0ii96iCD7uk21sHhJA-e9k-sVmCWwDZUJ17j9r_y_Jhfq2dUPVk2BzScpgWXxxHVBYJaq4_rwIZehlr49Yzu9y7JVOXWYJszgAD-aRENAtJ3uixMgygs5G3n7cqNf6M2Byhdv7ZVxE0nuyzvmQpKYILawr8o_cxoDwmacp-GrUHEn_ruFzLvJRWKTkcPlzJbQFB6B0XXoI7FtCvcJd6ilabUbuLVIIay0i8NMaGm4doSoINaR3voIEI7ITBX1B98Hofn1X4iTecpXerWt6JkRmrfXJpaPqAioLYIr0dedhGl_POmfTInvyYKQuyH3iUbPLYpkQ0NpjFKFxFJZjqJEFpGlgoztRTIK6yCS_H1-ZedHQTo5igjVIXdBqOHXU22N96V-lj4t4MoPLbaDTaJpMdQTykE_4vxu2eubzqWV-rKyH3YsU2Hmg13tOb8x0nAeaOdtQLZAnP2JN_LTLHyhXMFt2BcWRydW2nZAEoWjUcFMzlptLDlIvDBtVR-ytVFPcYb6L1kxfRdi_GxqGFKkkzIgWTooXLhtRNAiAmA4diSNI35x9dVnZzVWj83QGXIXovOUjmW8EpzUC0fiTF71RGDqECDAkUsRFYQhqaFvsZ0WEMxG1uIMSbROK4zU5Wys4_EpxMPDPzK1y5vQWBSDVTTpo_9D_M9H911JejJhP7WAhf9BzYBZZtvu4kC8-2s076AUepfvo8AuOQ0dCUZYarbEgikaJwbjKiG2hJTpLWefwo94JA1yKvUOkJDQ./download [following]\n--2019-06-30 13:26:33--  https://public.boxcloud.com/d/1/b1!Jb3h3Gll5TbVSkHAVRkJ6gRgvddmau5NePrJ-QWyhACtvSqtej1ECuB5NUkLcEzTByX0fJXLGqNcfs8gWAPwWLyPW2U9hQNfAy15IM48u-rr71W9Yh6ZWQbuhcS2dl8M4dWN8iSULACBk6dH0y9NO2A-9SrNEEnS9NMDkTEOHd5nPfKbJ3JxSxRy9Vh0huwSNf5EwMRpUe0NvXtGTI8ziyy2mPxgXuaptOROK7mRzoT6XGIi15pDAdsOqu7DaVrE7pztjTnWkiuIx8TyqtsVRrKROiHFPwZo7_y6IuzVwDS5WiC3tC0J7uAP1D88cic5mrf2AqjDmoIomJanUebvOQ-6H2tMPtVH4w1IWFCy8Oi_YoHGKONZXbhD67aU1XkoE1GmNylMlq3FQUB7J1SlN4z2rjZDuaSBYtQ1SLYwAxh_xp-ISWc959biCcEvOTl7et5ueHZchg32d6oq7IVoEjbkxQCdLswlGrabSqNSy2RmXe87xty3w6TZ0z3juyrj-GHE8pkdm3CwopCyB1io4iM3MOyUHr3dpcunVxsv0YDeprsL9SyBMl0kbZeBP5A2l6rXlDQU2UJgqJF0zWiNstQwut-m3JOZqrkV6s3bsXdcxykBn8ruiFfkOJ0ii96iCD7uk21sHhJA-e9k-sVmCWwDZUJ17j9r_y_Jhfq2dUPVk2BzScpgWXxxHVBYJaq4_rwIZehlr49Yzu9y7JVOXWYJszgAD-aRENAtJ3uixMgygs5G3n7cqNf6M2Byhdv7ZVxE0nuyzvmQpKYILawr8o_cxoDwmacp-GrUHEn_ruFzLvJRWKTkcPlzJbQFB6B0XXoI7FtCvcJd6ilabUbuLVIIay0i8NMaGm4doSoINaR3voIEI7ITBX1B98Hofn1X4iTecpXerWt6JkRmrfXJpaPqAioLYIr0dedhGl_POmfTInvyYKQuyH3iUbPLYpkQ0NpjFKFxFJZjqJEFpGlgoztRTIK6yCS_H1-ZedHQTo5igjVIXdBqOHXU22N96V-lj4t4MoPLbaDTaJpMdQTykE_4vxu2eubzqWV-rKyH3YsU2Hmg13tOb8x0nAeaOdtQLZAnP2JN_LTLHyhXMFt2BcWRydW2nZAEoWjUcFMzlptLDlIvDBtVR-ytVFPcYb6L1kxfRdi_GxqGFKkkzIgWTooXLhtRNAiAmA4diSNI35x9dVnZzVWj83QGXIXovOUjmW8EpzUC0fiTF71RGDqECDAkUsRFYQhqaFvsZ0WEMxG1uIMSbROK4zU5Wys4_EpxMPDPzK1y5vQWBSDVTTpo_9D_M9H911JejJhP7WAhf9BzYBZZtvu4kC8-2s076AUepfvo8AuOQ0dCUZYarbEgikaJwbjKiG2hJTpLWefwo94JA1yKvUOkJDQ./download\nResolving public.boxcloud.com (public.boxcloud.com)... 107.152.24.200\nConnecting to public.boxcloud.com (public.boxcloud.com)|107.152.24.200|:443... connected.\nHTTP request sent, awaiting response... 200 OK\nLength: 2891 (2.8K) [text/csv]\nSaving to: \u2018Geospatial_Coordinates.csv\u2019\n\n100%[======================================>] 2,891       --.-K/s   in 0s      \n\n2019-06-30 13:26:33 (447 MB/s) - \u2018Geospatial_Coordinates.csv\u2019 saved [2891/2891]\n\n"
                }
            ], 
            "execution_count": 40
        }, 
        {
            "source": "df_coord = pd.read_csv('Geospatial_Coordinates.csv')\ndf_coord.head()", 
            "cell_type": "code", 
            "metadata": {}, 
            "outputs": [
                {
                    "output_type": "execute_result", 
                    "data": {
                        "text/html": "<div>\n<style scoped>\n    .dataframe tbody tr th:only-of-type {\n        vertical-align: middle;\n    }\n\n    .dataframe tbody tr th {\n        vertical-align: top;\n    }\n\n    .dataframe thead th {\n        text-align: right;\n    }\n</style>\n<table border=\"1\" class=\"dataframe\">\n  <thead>\n    <tr style=\"text-align: right;\">\n      <th></th>\n      <th>Postal Code</th>\n      <th>Latitude</th>\n      <th>Longitude</th>\n    </tr>\n  </thead>\n  <tbody>\n    <tr>\n      <th>0</th>\n      <td>M1B</td>\n      <td>43.806686</td>\n      <td>-79.194353</td>\n    </tr>\n    <tr>\n      <th>1</th>\n      <td>M1C</td>\n      <td>43.784535</td>\n      <td>-79.160497</td>\n    </tr>\n    <tr>\n      <th>2</th>\n      <td>M1E</td>\n      <td>43.763573</td>\n      <td>-79.188711</td>\n    </tr>\n    <tr>\n      <th>3</th>\n      <td>M1G</td>\n      <td>43.770992</td>\n      <td>-79.216917</td>\n    </tr>\n    <tr>\n      <th>4</th>\n      <td>M1H</td>\n      <td>43.773136</td>\n      <td>-79.239476</td>\n    </tr>\n  </tbody>\n</table>\n</div>", 
                        "text/plain": "  Postal Code   Latitude  Longitude\n0         M1B  43.806686 -79.194353\n1         M1C  43.784535 -79.160497\n2         M1E  43.763573 -79.188711\n3         M1G  43.770992 -79.216917\n4         M1H  43.773136 -79.239476"
                    }, 
                    "execution_count": 41, 
                    "metadata": {}
                }
            ], 
            "execution_count": 41
        }, 
        {
            "source": "df['Latitude'] = df.apply(lambda row: \"\", axis=1)\ndf['Longitude'] = df.apply(lambda row: \"\", axis=1)\ndf.head() ", 
            "cell_type": "code", 
            "metadata": {}, 
            "outputs": [
                {
                    "output_type": "execute_result", 
                    "data": {
                        "text/html": "<div>\n<style scoped>\n    .dataframe tbody tr th:only-of-type {\n        vertical-align: middle;\n    }\n\n    .dataframe tbody tr th {\n        vertical-align: top;\n    }\n\n    .dataframe thead th {\n        text-align: right;\n    }\n</style>\n<table border=\"1\" class=\"dataframe\">\n  <thead>\n    <tr style=\"text-align: right;\">\n      <th></th>\n      <th>PostalCode</th>\n      <th>Borough</th>\n      <th>Neighborhood</th>\n      <th>Latitude</th>\n      <th>Longitude</th>\n    </tr>\n  </thead>\n  <tbody>\n    <tr>\n      <th>2</th>\n      <td>M3A</td>\n      <td>North York</td>\n      <td>Parkwoods</td>\n      <td></td>\n      <td></td>\n    </tr>\n    <tr>\n      <th>3</th>\n      <td>M4A</td>\n      <td>North York</td>\n      <td>Victoria Village</td>\n      <td></td>\n      <td></td>\n    </tr>\n    <tr>\n      <th>4</th>\n      <td>M5A</td>\n      <td>Downtown Toronto</td>\n      <td>Regent Park,Harbourfront</td>\n      <td></td>\n      <td></td>\n    </tr>\n    <tr>\n      <th>6</th>\n      <td>M6A</td>\n      <td>North York</td>\n      <td>Lawrence Manor,Lawrence Heights</td>\n      <td></td>\n      <td></td>\n    </tr>\n    <tr>\n      <th>8</th>\n      <td>M7A</td>\n      <td>Queen's Park</td>\n      <td>Queen's Park</td>\n      <td></td>\n      <td></td>\n    </tr>\n  </tbody>\n</table>\n</div>", 
                        "text/plain": "  PostalCode           Borough                     Neighborhood Latitude  \\\n2        M3A        North York                        Parkwoods            \n3        M4A        North York                 Victoria Village            \n4        M5A  Downtown Toronto         Regent Park,Harbourfront            \n6        M6A        North York  Lawrence Manor,Lawrence Heights            \n8        M7A      Queen's Park                     Queen's Park            \n\n  Longitude  \n2            \n3            \n4            \n6            \n8            "
                    }, 
                    "execution_count": 44, 
                    "metadata": {}
                }
            ], 
            "execution_count": 44
        }, 
        {
            "source": "for index, row in df.iterrows():\n    for index2, row2 in df_coord.iterrows():\n        if row2['Postal Code'] == row['PostalCode'] :            \n            row['Latitude'] = row2['Latitude']\n            row['Longitude'] = row2['Longitude']\ndf.reset_index(inplace=True)\ndf.reset_index(inplace=True)\ndf.head(10)    ", 
            "cell_type": "code", 
            "metadata": {}, 
            "outputs": [
                {
                    "output_type": "execute_result", 
                    "data": {
                        "text/html": "<div>\n<style scoped>\n    .dataframe tbody tr th:only-of-type {\n        vertical-align: middle;\n    }\n\n    .dataframe tbody tr th {\n        vertical-align: top;\n    }\n\n    .dataframe thead th {\n        text-align: right;\n    }\n</style>\n<table border=\"1\" class=\"dataframe\">\n  <thead>\n    <tr style=\"text-align: right;\">\n      <th></th>\n      <th>index</th>\n      <th>PostalCode</th>\n      <th>Borough</th>\n      <th>Neighborhood</th>\n      <th>Latitude</th>\n      <th>Longitude</th>\n    </tr>\n  </thead>\n  <tbody>\n    <tr>\n      <th>0</th>\n      <td>2</td>\n      <td>M3A</td>\n      <td>North York</td>\n      <td>Parkwoods</td>\n      <td>43.7533</td>\n      <td>-79.3297</td>\n    </tr>\n    <tr>\n      <th>1</th>\n      <td>3</td>\n      <td>M4A</td>\n      <td>North York</td>\n      <td>Victoria Village</td>\n      <td>43.7259</td>\n      <td>-79.3156</td>\n    </tr>\n    <tr>\n      <th>2</th>\n      <td>4</td>\n      <td>M5A</td>\n      <td>Downtown Toronto</td>\n      <td>Regent Park,Harbourfront</td>\n      <td>43.6543</td>\n      <td>-79.3606</td>\n    </tr>\n    <tr>\n      <th>3</th>\n      <td>6</td>\n      <td>M6A</td>\n      <td>North York</td>\n      <td>Lawrence Manor,Lawrence Heights</td>\n      <td>43.7185</td>\n      <td>-79.4648</td>\n    </tr>\n    <tr>\n      <th>4</th>\n      <td>8</td>\n      <td>M7A</td>\n      <td>Queen's Park</td>\n      <td>Queen's Park</td>\n      <td>43.6623</td>\n      <td>-79.3895</td>\n    </tr>\n    <tr>\n      <th>5</th>\n      <td>10</td>\n      <td>M9A</td>\n      <td>Etobicoke</td>\n      <td>Islington Avenue</td>\n      <td>43.6679</td>\n      <td>-79.5322</td>\n    </tr>\n    <tr>\n      <th>6</th>\n      <td>11</td>\n      <td>M1B</td>\n      <td>Scarborough</td>\n      <td>Malvern,Rouge</td>\n      <td>43.8067</td>\n      <td>-79.1944</td>\n    </tr>\n    <tr>\n      <th>7</th>\n      <td>14</td>\n      <td>M3B</td>\n      <td>North York</td>\n      <td>Don Mills North</td>\n      <td>43.7459</td>\n      <td>-79.3522</td>\n    </tr>\n    <tr>\n      <th>8</th>\n      <td>15</td>\n      <td>M4B</td>\n      <td>East York</td>\n      <td>Parkview Hill,Woodbine Gardens</td>\n      <td>43.7064</td>\n      <td>-79.3099</td>\n    </tr>\n    <tr>\n      <th>9</th>\n      <td>17</td>\n      <td>M5B</td>\n      <td>Downtown Toronto</td>\n      <td>Garden District,Ryerson</td>\n      <td>43.6572</td>\n      <td>-79.3789</td>\n    </tr>\n  </tbody>\n</table>\n</div>", 
                        "text/plain": "   index PostalCode           Borough                     Neighborhood  \\\n0      2        M3A        North York                        Parkwoods   \n1      3        M4A        North York                 Victoria Village   \n2      4        M5A  Downtown Toronto         Regent Park,Harbourfront   \n3      6        M6A        North York  Lawrence Manor,Lawrence Heights   \n4      8        M7A      Queen's Park                     Queen's Park   \n5     10        M9A         Etobicoke                 Islington Avenue   \n6     11        M1B       Scarborough                    Malvern,Rouge   \n7     14        M3B        North York                  Don Mills North   \n8     15        M4B         East York   Parkview Hill,Woodbine Gardens   \n9     17        M5B  Downtown Toronto          Garden District,Ryerson   \n\n  Latitude Longitude  \n0  43.7533  -79.3297  \n1  43.7259  -79.3156  \n2  43.6543  -79.3606  \n3  43.7185  -79.4648  \n4  43.6623  -79.3895  \n5  43.6679  -79.5322  \n6  43.8067  -79.1944  \n7  43.7459  -79.3522  \n8  43.7064  -79.3099  \n9  43.6572  -79.3789  "
                    }, 
                    "execution_count": 50, 
                    "metadata": {}
                }
            ], 
            "execution_count": 50
        }, 
        {
            "source": "", 
            "cell_type": "code", 
            "metadata": {}, 
            "outputs": [], 
            "execution_count": null
        }
    ], 
    "metadata": {
        "kernelspec": {
            "display_name": "Python 3.5", 
            "name": "python3", 
            "language": "python"
        }, 
        "language_info": {
            "mimetype": "text/x-python", 
            "nbconvert_exporter": "python", 
            "version": "3.5.5", 
            "name": "python", 
            "pygments_lexer": "ipython3", 
            "file_extension": ".py", 
            "codemirror_mode": {
                "version": 3, 
                "name": "ipython"
            }
        }
    }, 
    "nbformat": 4
}