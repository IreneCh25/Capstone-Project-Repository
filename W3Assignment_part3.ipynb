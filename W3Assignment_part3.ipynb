{
    "nbformat_minor": 1, 
    "cells": [
        {
            "source": "# Segmenting and Clustering Neighborhoods in Toronto", 
            "cell_type": "markdown", 
            "metadata": {
                "collapsed": true
            }
        }, 
        {
            "source": "_The first task requires to scrape and parse the given web-page. I'm going to use BeautifulSoup4 and requests libraries for this purpose._", 
            "cell_type": "markdown", 
            "metadata": {}
        }, 
        {
            "source": "# using requests load given web-page into object page \nimport requests\npage = requests.get(\"https://en.wikipedia.org/wiki/List_of_postal_codes_of_Canada:_M\")\npage", 
            "cell_type": "code", 
            "metadata": {}, 
            "outputs": [], 
            "execution_count": null
        }, 
        {
            "source": "_Also I need pandas for loading parsed data into dataframe_", 
            "cell_type": "markdown", 
            "metadata": {}
        }, 
        {
            "source": "import pandas as pd", 
            "cell_type": "code", 
            "metadata": {}, 
            "outputs": [], 
            "execution_count": null
        }, 
        {
            "source": "_Let's install BeautifulSoup4_", 
            "cell_type": "markdown", 
            "metadata": {}
        }, 
        {
            "source": "!pip install beautifulsoup4", 
            "cell_type": "code", 
            "metadata": {}, 
            "outputs": [], 
            "execution_count": null
        }, 
        {
            "source": "!conda install -c anaconda beautifulsoup4", 
            "cell_type": "code", 
            "metadata": {}, 
            "outputs": [], 
            "execution_count": null
        }, 
        {
            "source": "#here we parse page content\npage.content\nfrom bs4 import BeautifulSoup\nsoup = BeautifulSoup(page.content, 'html.parser')", 
            "cell_type": "code", 
            "metadata": {}, 
            "outputs": [], 
            "execution_count": null
        }, 
        {
            "source": "#print(soup.prettify())", 
            "cell_type": "code", 
            "metadata": {}, 
            "outputs": [], 
            "execution_count": null
        }, 
        {
            "source": "_Let's create dataframe for our data. It consists of 3 columns PostalCode, Borough, Neighborhood. And than load data into it from object soup_ ", 
            "cell_type": "markdown", 
            "metadata": {}
        }, 
        {
            "source": "#Let's create dataframe for our data. It consists of 3 columns  \nCACodeDf = pd.DataFrame(columns=[\"PostalCode\", \"Borough\", \"Neighborhood\"])", 
            "cell_type": "code", 
            "metadata": {}, 
            "outputs": [], 
            "execution_count": null
        }, 
        {
            "source": "#And finaly, let's load data from our page into dataframe  CACodeDf\ni = 0\nfor tr in soup.find_all('tr', text=True)[1:]:\n    tds = tr.find_all('td')  \n    my_str = tds[2].text.replace('\\n', '')\n    CACodeDf.loc[i] = [tds[0].text]+ [tds[1].text] + [my_str]\n    i = i+1\n    #print(tds[0].text)\nprint      (\"done\")", 
            "cell_type": "code", 
            "metadata": {}, 
            "outputs": [], 
            "execution_count": null
        }, 
        {
            "source": "_Here is the result. First 10 rows of our dataset_", 
            "cell_type": "markdown", 
            "metadata": {}
        }, 
        {
            "source": "CACodeDf.head()", 
            "cell_type": "code", 
            "metadata": {}, 
            "outputs": [], 
            "execution_count": null
        }, 
        {
            "source": "CACodeDf.shape", 
            "cell_type": "code", 
            "metadata": {}, 
            "outputs": [], 
            "execution_count": null
        }, 
        {
            "source": "_Now I have to process the data accordingly instructions given into assignment. First, I should remove all rows where Borough is Not assigned_", 
            "cell_type": "markdown", 
            "metadata": {}
        }, 
        {
            "source": "#Now , since we have dataframe filled with all necessary data, we should clear it from inappropriate rows\nCACodeDf = CACodeDf[CACodeDf.Borough != \"Not assigned\"]\nCACodeDf.head() ", 
            "cell_type": "code", 
            "metadata": {}, 
            "outputs": [], 
            "execution_count": null
        }, 
        {
            "source": "CACodeDf.shape", 
            "cell_type": "code", 
            "metadata": {}, 
            "outputs": [], 
            "execution_count": null
        }, 
        {
            "source": "_Now, let's update values of the cells where  Neighborhood is Not assigned. The new value of Neighborhood  for such rows must be equal its Borough value_", 
            "cell_type": "markdown", 
            "metadata": {}
        }, 
        {
            "source": "CACodeDf.loc[CACodeDf['Neighborhood'] == \"Not assigned\", ['Neighborhood']] = CACodeDf['Borough']\nCACodeDf.head()", 
            "cell_type": "code", 
            "metadata": {}, 
            "outputs": [], 
            "execution_count": null
        }, 
        {
            "source": "CACodeDf.shape", 
            "cell_type": "code", 
            "metadata": {}, 
            "outputs": [], 
            "execution_count": null
        }, 
        {
            "source": "_Finally, I have to transform our dataframe into the new one, so Postal Code would be unique_", 
            "cell_type": "markdown", 
            "metadata": {}
        }, 
        {
            "source": "df = CACodeDf[['PostalCode','Borough']]\n#df.drop_duplicates()\ndf=df.drop_duplicates(['PostalCode','Borough'])[['PostalCode','Borough']]\ndf['Neighborhood'] = df.apply(lambda row: \"\", axis=1)\ndf.head()\n#df.shape", 
            "cell_type": "code", 
            "metadata": {}, 
            "outputs": [], 
            "execution_count": null
        }, 
        {
            "source": "for index, row in df.iterrows():\n    my_str = ''\n    for index2, row2 in CACodeDf.iterrows():\n        if row2['PostalCode'] == row['PostalCode'] and row2['Borough'] == row['Borough']:\n            my_str = row2['Neighborhood']+\",\"+my_str\n    row['Neighborhood'] = my_str[:-1]\ndf.head()     ", 
            "cell_type": "code", 
            "metadata": {}, 
            "outputs": [], 
            "execution_count": null
        }, 
        {
            "source": "df.shape", 
            "cell_type": "code", 
            "metadata": {}, 
            "outputs": [], 
            "execution_count": null
        }, 
        {
            "source": "_So, you can see the final dataset consists of 103 rows.<br> The next step is defining location for each Borough. I prefer using the csv of Geospatial data. And the line below imports the csv into my project_", 
            "cell_type": "markdown", 
            "metadata": {}
        }, 
        {
            "source": "!wget -O Geospatial_Coordinates.csv https://cocl.us/Geospatial_data", 
            "cell_type": "code", 
            "metadata": {}, 
            "outputs": [], 
            "execution_count": null
        }, 
        {
            "source": "_Now let's load location data into the new dataftame  dfcoord_", 
            "cell_type": "markdown", 
            "metadata": {}
        }, 
        {
            "source": "df_coord = pd.read_csv('Geospatial_Coordinates.csv')\ndf_coord.head()", 
            "cell_type": "code", 
            "metadata": {}, 
            "outputs": [], 
            "execution_count": null
        }, 
        {
            "source": "_Let's increase our dataframe df with 2 columns Latitude and Longitude and assign its values from the dataframe dfcoord shown above_", 
            "cell_type": "markdown", 
            "metadata": {}
        }, 
        {
            "source": "df['Latitude'] = df.apply(lambda row: \"\", axis=1)\ndf['Longitude'] = df.apply(lambda row: \"\", axis=1)\ndf.head() ", 
            "cell_type": "code", 
            "metadata": {}, 
            "outputs": [], 
            "execution_count": null
        }, 
        {
            "source": "for index, row in df.iterrows():\n    for index2, row2 in df_coord.iterrows():\n        if row2['Postal Code'] == row['PostalCode'] :            \n            row['Latitude'] = row2['Latitude']\n            row['Longitude'] = row2['Longitude']\n#df.reset_index(inplace=True)\n#df.drop('index',axis=1, inplace=True)\ndf.head(10)    ", 
            "cell_type": "code", 
            "metadata": {}, 
            "outputs": [], 
            "execution_count": null
        }, 
        {
            "source": "_Here is the final dataset ready for further exploration_", 
            "cell_type": "markdown", 
            "metadata": {}
        }, 
        {
            "source": "df.shape", 
            "cell_type": "code", 
            "metadata": {}, 
            "outputs": [], 
            "execution_count": null
        }, 
        {
            "source": "df.dtypes", 
            "cell_type": "code", 
            "metadata": {}, 
            "outputs": [], 
            "execution_count": null
        }, 
        {
            "source": "toronto_data = df[df['Borough'].str.contains(\"Toronto\") == True].reset_index(drop=True)\ntoronto_data.head()", 
            "cell_type": "code", 
            "metadata": {}, 
            "outputs": [], 
            "execution_count": null
        }, 
        {
            "source": "toronto_data.shape", 
            "cell_type": "code", 
            "metadata": {}, 
            "outputs": [], 
            "execution_count": null
        }, 
        {
            "source": "import numpy as np # library to handle data in a vectorized manner\n\nimport pandas as pd # library for data analsysis\npd.set_option('display.max_columns', None)\npd.set_option('display.max_rows', None)\n\nimport json # library to handle JSON files\n\n#!conda install -c conda-forge geopy --yes \nfrom geopy.geocoders import Nominatim # convert an address into latitude and longitude values\n\nimport requests # library to handle requests\nfrom pandas.io.json import json_normalize # tranform JSON file into a pandas dataframe\n\n# Matplotlib and associated plotting modules\nimport matplotlib.cm as cm\nimport matplotlib.colors as colors\n\n# import k-means from clustering stage\nfrom sklearn.cluster import KMeans\n\n!conda install -c conda-forge folium=0.5.0 --yes \nimport folium # map rendering library\n\nprint('Libraries imported.')", 
            "cell_type": "code", 
            "metadata": {}, 
            "outputs": [], 
            "execution_count": null
        }, 
        {
            "source": "address = 'Toronto, CA'\n\ngeolocator = Nominatim(user_agent=\"ca_explorer\")\nlocation = geolocator.geocode(address)\nlatitude = location.latitude\nlongitude = location.longitude\nprint('The geograpical coordinate of Toronto City are {}, {}.'.format(latitude, longitude))", 
            "cell_type": "code", 
            "metadata": {}, 
            "outputs": [], 
            "execution_count": null
        }, 
        {
            "source": "# create map of New York using latitude and longitude values\nmap_toronto = folium.Map(location=[latitude, longitude], zoom_start=10)\n\n# add markers to map\nfor lat, lng, borough, df in zip(df['Latitude'], df['Longitude'], df['Borough'], df['Neighborhood']):\n    label = '{}, {}'.format(df, borough)\n    label = folium.Popup(label, parse_html=True)\n    folium.CircleMarker(\n        [lat, lng],\n        radius=5,\n        popup=label,\n        color='blue',\n        fill=True,\n        fill_color='#3186cc',\n        fill_opacity=0.7,\n        parse_html=False).add_to(map_toronto)  \n    \nmap_toronto", 
            "cell_type": "code", 
            "metadata": {}, 
            "outputs": [], 
            "execution_count": null
        }, 
        {
            "source": "# create map of Toronto using latitude and longitude values\nmap_toronto1 = folium.Map(location=[latitude, longitude], zoom_start=11)\n\n# add markers to map\nfor lat, lng, label in zip(toronto_data['Latitude'], toronto_data['Longitude'], toronto_data['Neighborhood']):\n    label = folium.Popup(label, parse_html=True)\n    folium.CircleMarker(\n        [lat, lng],\n        radius=5,\n        popup=label,\n        color='blue',\n        fill=True,\n        fill_color='#3186cc',\n        fill_opacity=0.7,\n        parse_html=False).add_to(map_toronto1)  \n    \nmap_toronto1", 
            "cell_type": "code", 
            "metadata": {}, 
            "outputs": [], 
            "execution_count": null
        }, 
        {
            "source": "CLIENT_ID = 'P5FRQ54L5KSCZASQMXUSHFQT2ZO2DK10SSPDSFPJE14ZWPTI' # your Foursquare ID\nCLIENT_SECRET = 'L4ISFZWLMOHIEZR5V4TQ4HKFCOHESAUYRSHF1SAWJUTXAVHX' # your Foursquare Secret\nVERSION = '20190630' # Foursquare API version\n\nprint('Your credentails:')\nprint('CLIENT_ID: ' + CLIENT_ID)\nprint('CLIENT_SECRET:' + CLIENT_SECRET)", 
            "cell_type": "code", 
            "metadata": {}, 
            "outputs": [], 
            "execution_count": null
        }, 
        {
            "source": "toronto_data.loc[0, 'Neighborhood']", 
            "cell_type": "code", 
            "metadata": {}, 
            "outputs": [], 
            "execution_count": null
        }, 
        {
            "source": "neighborhood_latitude = toronto_data.loc[0, 'Latitude'] # neighborhood latitude value\nneighborhood_longitude = toronto_data.loc[0, 'Longitude'] # neighborhood longitude value\n\nneighborhood_name = toronto_data.loc[0, 'Neighborhood'] # neighborhood name\n\nprint('Latitude and longitude values of {} are {}, {}.'.format(neighborhood_name, \n                                                               neighborhood_latitude, \n                                                               neighborhood_longitude))", 
            "cell_type": "code", 
            "metadata": {}, 
            "outputs": [], 
            "execution_count": null
        }, 
        {
            "source": "LIMIT = 100 # limit of number of venues returned by Foursquare API\nradius = 500 # define radius\n\n# create URL\nurl = 'https://api.foursquare.com/v2/venues/explore?&client_id={}&client_secret={}&v={}&ll={},{}&radius={}&limit={}'.format(\n    CLIENT_ID, \n    CLIENT_SECRET, \n    VERSION, \n    neighborhood_latitude, \n    neighborhood_longitude, \n    radius, \n    LIMIT)\nurl # display URL", 
            "cell_type": "code", 
            "metadata": {}, 
            "outputs": [], 
            "execution_count": null
        }, 
        {
            "source": "results = requests.get(url).json()\nresults", 
            "cell_type": "code", 
            "metadata": {}, 
            "outputs": [], 
            "execution_count": null
        }, 
        {
            "source": "# function that extracts the category of the venue\ndef get_category_type(row):\n    try:\n        categories_list = row['categories']\n    except:\n        categories_list = row['venue.categories']\n        \n    if len(categories_list) == 0:\n        return None\n    else:\n        return categories_list[0]['name']", 
            "cell_type": "code", 
            "metadata": {}, 
            "outputs": [], 
            "execution_count": null
        }, 
        {
            "source": "venues = results['response']['groups'][0]['items']\n    \nnearby_venues = json_normalize(venues) # flatten JSON\n\n# filter columns\nfiltered_columns = ['venue.name', 'venue.categories', 'venue.location.lat', 'venue.location.lng']\nnearby_venues =nearby_venues.loc[:, filtered_columns]\n\n# filter the category for each row\nnearby_venues['venue.categories'] = nearby_venues.apply(get_category_type, axis=1)\n\n# clean columns\nnearby_venues.columns = [col.split(\".\")[-1] for col in nearby_venues.columns]\n\nnearby_venues.head(10)", 
            "cell_type": "code", 
            "metadata": {}, 
            "outputs": [], 
            "execution_count": null
        }, 
        {
            "source": "print('{} venues were returned by Foursquare.'.format(nearby_venues.shape[0]))", 
            "cell_type": "code", 
            "metadata": {}, 
            "outputs": [], 
            "execution_count": null
        }, 
        {
            "source": "def getNearbyVenues(names, latitudes, longitudes, radius=500):\n    \n    venues_list=[]\n    for name, lat, lng in zip(names, latitudes, longitudes):\n        print(name)\n            \n        # create the API request URL\n        url = 'https://api.foursquare.com/v2/venues/explore?&client_id={}&client_secret={}&v={}&ll={},{}&radius={}&limit={}'.format(\n            CLIENT_ID, \n            CLIENT_SECRET, \n            VERSION, \n            lat, \n            lng, \n            radius, \n            LIMIT)\n            \n        # make the GET request\n        results = requests.get(url).json()[\"response\"]['groups'][0]['items']\n        \n        # return only relevant information for each nearby venue\n        venues_list.append([(\n            name, \n            lat, \n            lng, \n            v['venue']['name'], \n            v['venue']['location']['lat'], \n            v['venue']['location']['lng'],  \n            v['venue']['categories'][0]['name']) for v in results])\n\n    nearby_venues = pd.DataFrame([item for venue_list in venues_list for item in venue_list])\n    nearby_venues.columns = ['Neighborhood', \n                  'Neighborhood Latitude', \n                  'Neighborhood Longitude', \n                  'Venue', \n                  'Venue Latitude', \n                  'Venue Longitude', \n                  'Venue Category']\n    \n    return(nearby_venues)", 
            "cell_type": "code", 
            "metadata": {}, 
            "outputs": [], 
            "execution_count": null
        }, 
        {
            "source": "toronto_venues = getNearbyVenues(names=toronto_data['Neighborhood'],\n                                   latitudes=toronto_data['Latitude'],\n                                   longitudes=toronto_data['Longitude']\n                                  )", 
            "cell_type": "code", 
            "metadata": {}, 
            "outputs": [], 
            "execution_count": null
        }, 
        {
            "source": "print(toronto_venues.shape)\ntoronto_venues.head()", 
            "cell_type": "code", 
            "metadata": {}, 
            "outputs": [], 
            "execution_count": null
        }, 
        {
            "source": "toronto_venues.groupby('Neighborhood').count()", 
            "cell_type": "code", 
            "metadata": {}, 
            "outputs": [], 
            "execution_count": null
        }, 
        {
            "source": "print('There are {} uniques categories.'.format(len(toronto_venues['Venue Category'].unique())))", 
            "cell_type": "code", 
            "metadata": {}, 
            "outputs": [], 
            "execution_count": null
        }, 
        {
            "source": "# one hot encoding\ntoronto_onehot = pd.get_dummies(toronto_venues[['Venue Category']], prefix=\"\", prefix_sep=\"\")\n\n# add neighborhood column back to dataframe\ntoronto_onehot['Neighborhood'] = toronto_venues['Neighborhood'] \n\n# move neighborhood column to the first column\nfixed_columns = [toronto_onehot.columns[-1]] + list(toronto_onehot.columns[:-1])\ntoronto_onehot = toronto_onehot[fixed_columns]\n\ntoronto_onehot.head()", 
            "cell_type": "code", 
            "metadata": {}, 
            "outputs": [], 
            "execution_count": null
        }, 
        {
            "source": "toronto_onehot.shape", 
            "cell_type": "code", 
            "metadata": {}, 
            "outputs": [], 
            "execution_count": null
        }, 
        {
            "source": "toronto_grouped = toronto_onehot.groupby('Neighborhood').mean().reset_index()\ntoronto_grouped", 
            "cell_type": "code", 
            "metadata": {}, 
            "outputs": [], 
            "execution_count": null
        }, 
        {
            "source": "toronto_grouped.shape", 
            "cell_type": "code", 
            "metadata": {}, 
            "outputs": [], 
            "execution_count": null
        }, 
        {
            "source": "num_top_venues = 5\n\nfor hood in toronto_grouped['Neighborhood']:\n    print(\"----\"+hood+\"----\")\n    temp = toronto_grouped[toronto_grouped['Neighborhood'] == hood].T.reset_index()\n    temp.columns = ['venue','freq']\n    temp = temp.iloc[1:]\n    temp['freq'] = temp['freq'].astype(float)\n    temp = temp.round({'freq': 2})\n    print(temp.sort_values('freq', ascending=False).reset_index(drop=True).head(num_top_venues))\n    print('\\n')", 
            "cell_type": "code", 
            "metadata": {}, 
            "outputs": [], 
            "execution_count": null
        }, 
        {
            "source": "def return_most_common_venues(row, num_top_venues):\n    row_categories = row.iloc[1:]\n    row_categories_sorted = row_categories.sort_values(ascending=False)\n    \n    return row_categories_sorted.index.values[0:num_top_venues]", 
            "cell_type": "code", 
            "metadata": {}, 
            "outputs": [], 
            "execution_count": null
        }, 
        {
            "source": "num_top_venues = 10\n\nindicators = ['st', 'nd', 'rd']\n\n# create columns according to number of top venues\ncolumns = ['Neighborhood']\nfor ind in np.arange(num_top_venues):\n    try:\n        columns.append('{}{} Most Common Venue'.format(ind+1, indicators[ind]))\n    except:\n        columns.append('{}th Most Common Venue'.format(ind+1))\n\n# create a new dataframe\nneighborhoods_venues_sorted = pd.DataFrame(columns=columns)\nneighborhoods_venues_sorted['Neighborhood'] = toronto_grouped['Neighborhood']\n\nfor ind in np.arange(toronto_grouped.shape[0]):\n    neighborhoods_venues_sorted.iloc[ind, 1:] = return_most_common_venues(toronto_grouped.iloc[ind, :], num_top_venues)\n\nneighborhoods_venues_sorted.head()", 
            "cell_type": "code", 
            "metadata": {}, 
            "outputs": [], 
            "execution_count": null
        }, 
        {
            "source": " ### Cluster Neighborhoods  ", 
            "cell_type": "markdown", 
            "metadata": {}
        }, 
        {
            "source": "_Run *k*-means to cluster the neighborhood into 5 clusters._", 
            "cell_type": "markdown", 
            "metadata": {}
        }, 
        {
            "source": "# set number of clusters\nkclusters = 5\n\ntoronto_grouped_clustering = toronto_grouped.drop('Neighborhood', 1)\n\n# run k-means clustering\nkmeans = KMeans(n_clusters=kclusters, random_state=0).fit(toronto_grouped_clustering)\n\n# check cluster labels generated for each row in the dataframe\nkmeans.labels_[0:10] ", 
            "cell_type": "code", 
            "metadata": {}, 
            "outputs": [], 
            "execution_count": null
        }, 
        {
            "source": "# add clustering labels\nneighborhoods_venues_sorted.insert(0, 'Cluster Labels', kmeans.labels_)\n\ntoronto_merged = toronto_data\n\n# merge toronto_grouped with toronto_data to add latitude/longitude for each neighborhood\ntoronto_merged = toronto_merged.join(neighborhoods_venues_sorted.set_index('Neighborhood'), on='Neighborhood')\n\ntoronto_merged.head() # check the last columns!", 
            "cell_type": "code", 
            "metadata": {}, 
            "outputs": [], 
            "execution_count": null
        }, 
        {
            "source": "# create map\nmap_clusters = folium.Map(location=[latitude, longitude], zoom_start=11)\n\n# set color scheme for the clusters\nx = np.arange(kclusters)\nys = [i + x + (i*x)**2 for i in range(kclusters)]\ncolors_array = cm.rainbow(np.linspace(0, 1, len(ys)))\nrainbow = [colors.rgb2hex(i) for i in colors_array]\n\n# add markers to the map\nmarkers_colors = []\nfor lat, lon, poi, cluster in zip(toronto_merged['Latitude'], toronto_merged['Longitude'], toronto_merged['Neighborhood'], toronto_merged['Cluster Labels']):\n    label = folium.Popup(str(poi) + ' Cluster ' + str(cluster), parse_html=True)\n    folium.CircleMarker(\n        [lat, lon],\n        radius=5,\n        popup=label,\n        color=rainbow[cluster-1],\n        fill=True,\n        fill_color=rainbow[cluster-1],\n        fill_opacity=0.7).add_to(map_clusters)\n       \nmap_clusters", 
            "cell_type": "code", 
            "metadata": {}, 
            "outputs": [], 
            "execution_count": null
        }, 
        {
            "source": "toronto_merged.loc[toronto_merged['Cluster Labels'] == 0, toronto_merged.columns[[1] + list(range(5, toronto_merged.shape[1]))]]", 
            "cell_type": "code", 
            "metadata": {}, 
            "outputs": [], 
            "execution_count": null
        }, 
        {
            "source": "toronto_merged.loc[toronto_merged['Cluster Labels'] == 1, toronto_merged.columns[[1] + list(range(5, toronto_merged.shape[1]))]]", 
            "cell_type": "code", 
            "metadata": {}, 
            "outputs": [
                {
                    "output_type": "execute_result", 
                    "data": {
                        "text/plain": "            Borough  Cluster Labels 1st Most Common Venue  \\\n18  Central Toronto               1        Ice Cream Shop   \n\n   2nd Most Common Venue 3rd Most Common Venue 4th Most Common Venue  \\\n18                Garden         Women's Store                 Diner   \n\n   5th Most Common Venue 6th Most Common Venue 7th Most Common Venue  \\\n18  Fast Food Restaurant        Farmers Market    Falafel Restaurant   \n\n   8th Most Common Venue 9th Most Common Venue 10th Most Common Venue  \n18           Event Space  Ethiopian Restaurant      Electronics Store  ", 
                        "text/html": "<div>\n<style scoped>\n    .dataframe tbody tr th:only-of-type {\n        vertical-align: middle;\n    }\n\n    .dataframe tbody tr th {\n        vertical-align: top;\n    }\n\n    .dataframe thead th {\n        text-align: right;\n    }\n</style>\n<table border=\"1\" class=\"dataframe\">\n  <thead>\n    <tr style=\"text-align: right;\">\n      <th></th>\n      <th>Borough</th>\n      <th>Cluster Labels</th>\n      <th>1st Most Common Venue</th>\n      <th>2nd Most Common Venue</th>\n      <th>3rd Most Common Venue</th>\n      <th>4th Most Common Venue</th>\n      <th>5th Most Common Venue</th>\n      <th>6th Most Common Venue</th>\n      <th>7th Most Common Venue</th>\n      <th>8th Most Common Venue</th>\n      <th>9th Most Common Venue</th>\n      <th>10th Most Common Venue</th>\n    </tr>\n  </thead>\n  <tbody>\n    <tr>\n      <th>18</th>\n      <td>Central Toronto</td>\n      <td>1</td>\n      <td>Ice Cream Shop</td>\n      <td>Garden</td>\n      <td>Women's Store</td>\n      <td>Diner</td>\n      <td>Fast Food Restaurant</td>\n      <td>Farmers Market</td>\n      <td>Falafel Restaurant</td>\n      <td>Event Space</td>\n      <td>Ethiopian Restaurant</td>\n      <td>Electronics Store</td>\n    </tr>\n  </tbody>\n</table>\n</div>"
                    }, 
                    "execution_count": 114, 
                    "metadata": {}
                }
            ], 
            "execution_count": 114
        }, 
        {
            "source": "toronto_merged.loc[toronto_merged['Cluster Labels'] == 2, toronto_merged.columns[[1] + list(range(5, toronto_merged.shape[1]))]]", 
            "cell_type": "code", 
            "metadata": {}, 
            "outputs": [
                {
                    "output_type": "execute_result", 
                    "data": {
                        "text/plain": "            Borough  Cluster Labels 1st Most Common Venue  \\\n28  Central Toronto               2            Playground   \n\n   2nd Most Common Venue 3rd Most Common Venue 4th Most Common Venue  \\\n28          Tennis Court          Dessert Shop        Farmers Market   \n\n   5th Most Common Venue 6th Most Common Venue 7th Most Common Venue  \\\n28    Falafel Restaurant           Event Space  Ethiopian Restaurant   \n\n   8th Most Common Venue        9th Most Common Venue 10th Most Common Venue  \n28     Electronics Store  Eastern European Restaurant    Dumpling Restaurant  ", 
                        "text/html": "<div>\n<style scoped>\n    .dataframe tbody tr th:only-of-type {\n        vertical-align: middle;\n    }\n\n    .dataframe tbody tr th {\n        vertical-align: top;\n    }\n\n    .dataframe thead th {\n        text-align: right;\n    }\n</style>\n<table border=\"1\" class=\"dataframe\">\n  <thead>\n    <tr style=\"text-align: right;\">\n      <th></th>\n      <th>Borough</th>\n      <th>Cluster Labels</th>\n      <th>1st Most Common Venue</th>\n      <th>2nd Most Common Venue</th>\n      <th>3rd Most Common Venue</th>\n      <th>4th Most Common Venue</th>\n      <th>5th Most Common Venue</th>\n      <th>6th Most Common Venue</th>\n      <th>7th Most Common Venue</th>\n      <th>8th Most Common Venue</th>\n      <th>9th Most Common Venue</th>\n      <th>10th Most Common Venue</th>\n    </tr>\n  </thead>\n  <tbody>\n    <tr>\n      <th>28</th>\n      <td>Central Toronto</td>\n      <td>2</td>\n      <td>Playground</td>\n      <td>Tennis Court</td>\n      <td>Dessert Shop</td>\n      <td>Farmers Market</td>\n      <td>Falafel Restaurant</td>\n      <td>Event Space</td>\n      <td>Ethiopian Restaurant</td>\n      <td>Electronics Store</td>\n      <td>Eastern European Restaurant</td>\n      <td>Dumpling Restaurant</td>\n    </tr>\n  </tbody>\n</table>\n</div>"
                    }, 
                    "execution_count": 115, 
                    "metadata": {}
                }
            ], 
            "execution_count": 115
        }, 
        {
            "source": "toronto_merged.loc[toronto_merged['Cluster Labels'] == 3, toronto_merged.columns[[1] + list(range(5, toronto_merged.shape[1]))]]", 
            "cell_type": "code", 
            "metadata": {}, 
            "outputs": [
                {
                    "output_type": "execute_result", 
                    "data": {
                        "text/plain": "            Borough  Cluster Labels 1st Most Common Venue  \\\n17  Central Toronto               3                  Park   \n\n   2nd Most Common Venue 3rd Most Common Venue 4th Most Common Venue  \\\n17           Swim School              Bus Line         Women's Store   \n\n   5th Most Common Venue 6th Most Common Venue 7th Most Common Venue  \\\n17                 Diner        Farmers Market    Falafel Restaurant   \n\n   8th Most Common Venue 9th Most Common Venue 10th Most Common Venue  \n17           Event Space  Ethiopian Restaurant      Electronics Store  ", 
                        "text/html": "<div>\n<style scoped>\n    .dataframe tbody tr th:only-of-type {\n        vertical-align: middle;\n    }\n\n    .dataframe tbody tr th {\n        vertical-align: top;\n    }\n\n    .dataframe thead th {\n        text-align: right;\n    }\n</style>\n<table border=\"1\" class=\"dataframe\">\n  <thead>\n    <tr style=\"text-align: right;\">\n      <th></th>\n      <th>Borough</th>\n      <th>Cluster Labels</th>\n      <th>1st Most Common Venue</th>\n      <th>2nd Most Common Venue</th>\n      <th>3rd Most Common Venue</th>\n      <th>4th Most Common Venue</th>\n      <th>5th Most Common Venue</th>\n      <th>6th Most Common Venue</th>\n      <th>7th Most Common Venue</th>\n      <th>8th Most Common Venue</th>\n      <th>9th Most Common Venue</th>\n      <th>10th Most Common Venue</th>\n    </tr>\n  </thead>\n  <tbody>\n    <tr>\n      <th>17</th>\n      <td>Central Toronto</td>\n      <td>3</td>\n      <td>Park</td>\n      <td>Swim School</td>\n      <td>Bus Line</td>\n      <td>Women's Store</td>\n      <td>Diner</td>\n      <td>Farmers Market</td>\n      <td>Falafel Restaurant</td>\n      <td>Event Space</td>\n      <td>Ethiopian Restaurant</td>\n      <td>Electronics Store</td>\n    </tr>\n  </tbody>\n</table>\n</div>"
                    }, 
                    "execution_count": 116, 
                    "metadata": {}
                }
            ], 
            "execution_count": 116
        }, 
        {
            "source": "toronto_merged.loc[toronto_merged['Cluster Labels'] == 4, toronto_merged.columns[[1] + list(range(5, toronto_merged.shape[1]))]]", 
            "cell_type": "code", 
            "metadata": {}, 
            "outputs": [
                {
                    "output_type": "execute_result", 
                    "data": {
                        "text/plain": "             Borough  Cluster Labels 1st Most Common Venue  \\\n20   Central Toronto               4                 Trail   \n32  Downtown Toronto               4                  Park   \n\n   2nd Most Common Venue 3rd Most Common Venue 4th Most Common Venue  \\\n20         Jewelry Store                  Park      Sushi Restaurant   \n32            Playground                 Trail              Building   \n\n          5th Most Common Venue 6th Most Common Venue 7th Most Common Venue  \\\n20  Eastern European Restaurant               Dog Run      Doner Restaurant   \n32                        Diner        Farmers Market    Falafel Restaurant   \n\n   8th Most Common Venue 9th Most Common Venue 10th Most Common Venue  \n20            Donut Shop   Dumpling Restaurant          Women's Store  \n32           Event Space  Ethiopian Restaurant      Electronics Store  ", 
                        "text/html": "<div>\n<style scoped>\n    .dataframe tbody tr th:only-of-type {\n        vertical-align: middle;\n    }\n\n    .dataframe tbody tr th {\n        vertical-align: top;\n    }\n\n    .dataframe thead th {\n        text-align: right;\n    }\n</style>\n<table border=\"1\" class=\"dataframe\">\n  <thead>\n    <tr style=\"text-align: right;\">\n      <th></th>\n      <th>Borough</th>\n      <th>Cluster Labels</th>\n      <th>1st Most Common Venue</th>\n      <th>2nd Most Common Venue</th>\n      <th>3rd Most Common Venue</th>\n      <th>4th Most Common Venue</th>\n      <th>5th Most Common Venue</th>\n      <th>6th Most Common Venue</th>\n      <th>7th Most Common Venue</th>\n      <th>8th Most Common Venue</th>\n      <th>9th Most Common Venue</th>\n      <th>10th Most Common Venue</th>\n    </tr>\n  </thead>\n  <tbody>\n    <tr>\n      <th>20</th>\n      <td>Central Toronto</td>\n      <td>4</td>\n      <td>Trail</td>\n      <td>Jewelry Store</td>\n      <td>Park</td>\n      <td>Sushi Restaurant</td>\n      <td>Eastern European Restaurant</td>\n      <td>Dog Run</td>\n      <td>Doner Restaurant</td>\n      <td>Donut Shop</td>\n      <td>Dumpling Restaurant</td>\n      <td>Women's Store</td>\n    </tr>\n    <tr>\n      <th>32</th>\n      <td>Downtown Toronto</td>\n      <td>4</td>\n      <td>Park</td>\n      <td>Playground</td>\n      <td>Trail</td>\n      <td>Building</td>\n      <td>Diner</td>\n      <td>Farmers Market</td>\n      <td>Falafel Restaurant</td>\n      <td>Event Space</td>\n      <td>Ethiopian Restaurant</td>\n      <td>Electronics Store</td>\n    </tr>\n  </tbody>\n</table>\n</div>"
                    }, 
                    "execution_count": 117, 
                    "metadata": {}
                }
            ], 
            "execution_count": 117
        }, 
        {
            "source": "", 
            "cell_type": "code", 
            "metadata": {}, 
            "outputs": [], 
            "execution_count": null
        }
    ], 
    "metadata": {
        "kernelspec": {
            "display_name": "Python 3.5", 
            "name": "python3", 
            "language": "python"
        }, 
        "language_info": {
            "mimetype": "text/x-python", 
            "nbconvert_exporter": "python", 
            "version": "3.5.5", 
            "name": "python", 
            "pygments_lexer": "ipython3", 
            "file_extension": ".py", 
            "codemirror_mode": {
                "version": 3, 
                "name": "ipython"
            }
        }
    }, 
    "nbformat": 4
}