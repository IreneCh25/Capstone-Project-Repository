{
    "nbformat_minor": 1, 
    "cells": [
        {
            "source": "# Segmenting and Clustering Neighborhoods in Toronto", 
            "cell_type": "markdown", 
            "metadata": {
                "collapsed": true
            }
        }, 
        {
            "source": "# using requests load given web-page into object page \nimport requests\npage = requests.get(\"https://en.wikipedia.org/wiki/List_of_postal_codes_of_Canada:_M\")\npage", 
            "cell_type": "code", 
            "metadata": {}, 
            "outputs": [
                {
                    "output_type": "execute_result", 
                    "data": {
                        "text/plain": "<Response [200]>"
                    }, 
                    "execution_count": 2, 
                    "metadata": {}
                }
            ], 
            "execution_count": 2
        }, 
        {
            "source": "import pandas as pd", 
            "cell_type": "code", 
            "metadata": {}, 
            "outputs": [], 
            "execution_count": 3
        }, 
        {
            "source": "!pip install beautifulsoup4", 
            "cell_type": "code", 
            "metadata": {}, 
            "outputs": [
                {
                    "output_type": "stream", 
                    "name": "stdout", 
                    "text": "Requirement already satisfied: beautifulsoup4 in /opt/conda/envs/DSX-Python35/lib/python3.5/site-packages (4.6.0)\n\u001b[31mtensorflow 1.3.0 requires tensorflow-tensorboard<0.2.0,>=0.1.0, which is not installed.\u001b[0m\n"
                }
            ], 
            "execution_count": 4
        }, 
        {
            "source": "!conda install -c anaconda beautifulsoup4", 
            "cell_type": "code", 
            "metadata": {}, 
            "outputs": [
                {
                    "output_type": "stream", 
                    "name": "stdout", 
                    "text": "Solving environment: done\n\n# All requested packages already installed.\n\n"
                }
            ], 
            "execution_count": 34
        }, 
        {
            "source": "#here we parse page content\n#page.content\nfrom bs4 import BeautifulSoup\nsoup = BeautifulSoup(page.content, 'html.parser')", 
            "cell_type": "code", 
            "metadata": {}, 
            "outputs": [], 
            "execution_count": 3
        }, 
        {
            "source": "#print(soup.prettify())", 
            "cell_type": "code", 
            "metadata": {}, 
            "outputs": [], 
            "execution_count": 1
        }, 
        {
            "source": "#Let's create dataframe for our data. It consists of 3 columns  \nCACodeDf = pd.DataFrame(columns=[\"PostalCode\", \"Borough\", \"Neighborhood\"])", 
            "cell_type": "code", 
            "metadata": {}, 
            "outputs": [], 
            "execution_count": 5
        }, 
        {
            "source": "#And finaly, let's load data from our page into dataframe  CACodeDf\ni = 0\nfor tr in soup.find_all('tr')[1:]:\n    tds = tr.find_all('td')  \n    my_str = tds[2].text.replace('\\n', '')\n    CACodeDf.loc[i] = [tds[0].text]+ [tds[1].text] + [my_str]\n    i = i +1\n    print      (tds[0].text, tds[1].text, tds[2].text)", 
            "cell_type": "code", 
            "metadata": {}, 
            "outputs": [
                {
                    "output_type": "stream", 
                    "name": "stdout", 
                    "text": "M1A Not assigned Not assigned\n\nM2A Not assigned Not assigned\n\nM3A North York Parkwoods\n\nM4A North York Victoria Village\n\nM5A Downtown Toronto Harbourfront\n\nM5A Downtown Toronto Regent Park\n\nM6A North York Lawrence Heights\n\nM6A North York Lawrence Manor\n\nM7A Queen's Park Not assigned\n\nM8A Not assigned Not assigned\n\nM9A Etobicoke Islington Avenue\n\nM1B Scarborough Rouge\n\nM1B Scarborough Malvern\n\nM2B Not assigned Not assigned\n\nM3B North York Don Mills North\n\nM4B East York Woodbine Gardens\n\nM4B East York Parkview Hill\n\nM5B Downtown Toronto Ryerson\n\nM5B Downtown Toronto Garden District\n\nM6B North York Glencairn\n\nM7B Not assigned Not assigned\n\nM8B Not assigned Not assigned\n\nM9B Etobicoke Cloverdale\n\nM9B Etobicoke Islington\n\nM9B Etobicoke Martin Grove\n\nM9B Etobicoke Princess Gardens\n\nM9B Etobicoke West Deane Park\n\nM1C Scarborough Highland Creek\n\nM1C Scarborough Rouge Hill\n\nM1C Scarborough Port Union\n\nM2C Not assigned Not assigned\n\nM3C North York Flemingdon Park\n\nM3C North York Don Mills South\n\nM4C East York Woodbine Heights\n\nM5C Downtown Toronto St. James Town\n\nM6C York Humewood-Cedarvale\n\nM7C Not assigned Not assigned\n\nM8C Not assigned Not assigned\n\nM9C Etobicoke Bloordale Gardens\n\nM9C Etobicoke Eringate\n\nM9C Etobicoke Markland Wood\n\nM9C Etobicoke Old Burnhamthorpe\n\nM1E Scarborough Guildwood\n\nM1E Scarborough Morningside\n\nM1E Scarborough West Hill\n\nM2E Not assigned Not assigned\n\nM3E Not assigned Not assigned\n\nM4E East Toronto The Beaches\n\nM5E Downtown Toronto Berczy Park\n\nM6E York Caledonia-Fairbanks\n\nM7E Not assigned Not assigned\n\nM8E Not assigned Not assigned\n\nM9E Not assigned Not assigned\n\nM1G Scarborough Woburn\n\nM2G Not assigned Not assigned\n\nM3G Not assigned Not assigned\n\nM4G East York Leaside\n\nM5G Downtown Toronto Central Bay Street\n\nM6G Downtown Toronto Christie\n\nM7G Not assigned Not assigned\n\nM8G Not assigned Not assigned\n\nM9G Not assigned Not assigned\n\nM1H Scarborough Cedarbrae\n\nM2H North York Hillcrest Village\n\nM3H North York Bathurst Manor\n\nM3H North York Downsview North\n\nM3H North York Wilson Heights\n\nM4H East York Thorncliffe Park\n\nM5H Downtown Toronto Adelaide\n\nM5H Downtown Toronto King\n\nM5H Downtown Toronto Richmond\n\nM6H West Toronto Dovercourt Village\n\nM6H West Toronto Dufferin\n\nM7H Not assigned Not assigned\n\nM8H Not assigned Not assigned\n\nM9H Not assigned Not assigned\n\nM1J Scarborough Scarborough Village\n\nM2J North York Fairview\n\nM2J North York Henry Farm\n\nM2J North York Oriole\n\nM3J North York Northwood Park\n\nM3J North York York University\n\nM4J East York East Toronto\n\nM5J Downtown Toronto Harbourfront East\n\nM5J Downtown Toronto Toronto Islands\n\nM5J Downtown Toronto Union Station\n\nM6J West Toronto Little Portugal\n\nM6J West Toronto Trinity\n\nM7J Not assigned Not assigned\n\nM8J Not assigned Not assigned\n\nM9J Not assigned Not assigned\n\nM1K Scarborough East Birchmount Park\n\nM1K Scarborough Ionview\n\nM1K Scarborough Kennedy Park\n\nM2K North York Bayview Village\n\nM3K North York CFB Toronto\n\nM3K North York Downsview East\n\nM4K East Toronto The Danforth West\n\nM4K East Toronto Riverdale\n\nM5K Downtown Toronto Design Exchange\n\nM5K Downtown Toronto Toronto Dominion Centre\n\nM6K West Toronto Brockton\n\nM6K West Toronto Exhibition Place\n\nM6K West Toronto Parkdale Village\n\nM7K Not assigned Not assigned\n\nM8K Not assigned Not assigned\n\nM9K Not assigned Not assigned\n\nM1L Scarborough Clairlea\n\nM1L Scarborough Golden Mile\n\nM1L Scarborough Oakridge\n\nM2L North York Silver Hills\n\nM2L North York York Mills\n\nM3L North York Downsview West\n\nM4L East Toronto The Beaches West\n\nM4L East Toronto India Bazaar\n\nM5L Downtown Toronto Commerce Court\n\nM5L Downtown Toronto Victoria Hotel\n\nM6L North York Downsview\n\nM6L North York North Park\n\nM6L North York Upwood Park\n\nM7L Not assigned Not assigned\n\nM8L Not assigned Not assigned\n\nM9L North York Humber Summit\n\nM1M Scarborough Cliffcrest\n\nM1M Scarborough Cliffside\n\nM1M Scarborough Scarborough Village West\n\nM2M North York Newtonbrook\n\nM2M North York Willowdale\n\nM3M North York Downsview Central\n\nM4M East Toronto Studio District\n\nM5M North York Bedford Park\n\nM5M North York Lawrence Manor East\n\nM6M York Del Ray\n\nM6M York Keelesdale\n\nM6M York Mount Dennis\n\nM6M York Silverthorn\n\nM7M Not assigned Not assigned\n\nM8M Not assigned Not assigned\n\nM9M North York Emery\n\nM9M North York Humberlea\n\nM1N Scarborough Birch Cliff\n\nM1N Scarborough Cliffside West\n\nM2N North York Willowdale South\n\nM3N North York Downsview Northwest\n\nM4N Central Toronto Lawrence Park\n\nM5N Central Toronto Roselawn\n\nM6N York The Junction North\n\nM6N York Runnymede\n\nM7N Not assigned Not assigned\n\nM8N Not assigned Not assigned\n\nM9N York Weston\n\nM1P Scarborough Dorset Park\n\nM1P Scarborough Scarborough Town Centre\n\nM1P Scarborough Wexford Heights\n\nM2P North York York Mills West\n\nM3P Not assigned Not assigned\n\nM4P Central Toronto Davisville North\n\nM5P Central Toronto Forest Hill North\n\nM5P Central Toronto Forest Hill West\n\nM6P West Toronto High Park\n\nM6P West Toronto The Junction South\n\nM7P Not assigned Not assigned\n\nM8P Not assigned Not assigned\n\nM9P Etobicoke Westmount\n\nM1R Scarborough Maryvale\n\nM1R Scarborough Wexford\n\nM2R North York Willowdale West\n\nM3R Not assigned Not assigned\n\nM4R Central Toronto North Toronto West\n\nM5R Central Toronto The Annex\n\nM5R Central Toronto North Midtown\n\nM5R Central Toronto Yorkville\n\nM6R West Toronto Parkdale\n\nM6R West Toronto Roncesvalles\n\nM7R Mississauga Canada Post Gateway Processing Centre\n\nM8R Not assigned Not assigned\n\nM9R Etobicoke Kingsview Village\n\nM9R Etobicoke Martin Grove Gardens\n\nM9R Etobicoke Richview Gardens\n\nM9R Etobicoke St. Phillips\n\nM1S Scarborough Agincourt\n\nM2S Not assigned Not assigned\n\nM3S Not assigned Not assigned\n\nM4S Central Toronto Davisville\n\nM5S Downtown Toronto Harbord\n\nM5S Downtown Toronto University of Toronto\n\nM6S West Toronto Runnymede\n\nM6S West Toronto Swansea\n\nM7S Not assigned Not assigned\n\nM8S Not assigned Not assigned\n\nM9S Not assigned Not assigned\n\nM1T Scarborough Clarks Corners\n\nM1T Scarborough Sullivan\n\nM1T Scarborough Tam O'Shanter\n\nM2T Not assigned Not assigned\n\nM3T Not assigned Not assigned\n\nM4T Central Toronto Moore Park\n\nM4T Central Toronto Summerhill East\n\nM5T Downtown Toronto Chinatown\n\nM5T Downtown Toronto Grange Park\n\nM5T Downtown Toronto Kensington Market\n\nM6T Not assigned Not assigned\n\nM7T Not assigned Not assigned\n\nM8T Not assigned Not assigned\n\nM9T Not assigned Not assigned\n\nM1V Scarborough Agincourt North\n\nM1V Scarborough L'Amoreaux East\n\nM1V Scarborough Milliken\n\nM1V Scarborough Steeles East\n\nM2V Not assigned Not assigned\n\nM3V Not assigned Not assigned\n\nM4V Central Toronto Deer Park\n\nM4V Central Toronto Forest Hill SE\n\nM4V Central Toronto Rathnelly\n\nM4V Central Toronto South Hill\n\nM4V Central Toronto Summerhill West\n\nM5V Downtown Toronto CN Tower\n\nM5V Downtown Toronto Bathurst Quay\n\nM5V Downtown Toronto Island airport\n\nM5V Downtown Toronto Harbourfront West\n\nM5V Downtown Toronto King and Spadina\n\nM5V Downtown Toronto Railway Lands\n\nM5V Downtown Toronto South Niagara\n\nM6V Not assigned Not assigned\n\nM7V Not assigned Not assigned\n\nM8V Etobicoke Humber Bay Shores\n\nM8V Etobicoke Mimico South\n\nM8V Etobicoke New Toronto\n\nM9V Etobicoke Albion Gardens\n\nM9V Etobicoke Beaumond Heights\n\nM9V Etobicoke Humbergate\n\nM9V Etobicoke Jamestown\n\nM9V Etobicoke Mount Olive\n\nM9V Etobicoke Silverstone\n\nM9V Etobicoke South Steeles\n\nM9V Etobicoke Thistletown\n\nM1W Scarborough L'Amoreaux West\n\nM2W Not assigned Not assigned\n\nM3W Not assigned Not assigned\n\nM4W Downtown Toronto Rosedale\n\nM5W Downtown Toronto Stn A PO Boxes 25 The Esplanade\n\nM6W Not assigned Not assigned\n\nM7W Not assigned Not assigned\n\nM8W Etobicoke Alderwood\n\nM8W Etobicoke Long Branch\n\nM9W Etobicoke Northwest\n\nM1X Scarborough Upper Rouge\n\nM2X Not assigned Not assigned\n\nM3X Not assigned Not assigned\n\nM4X Downtown Toronto Cabbagetown\n\nM4X Downtown Toronto St. James Town\n\nM5X Downtown Toronto First Canadian Place\n\nM5X Downtown Toronto Underground city\n\nM6X Not assigned Not assigned\n\nM7X Not assigned Not assigned\n\nM8X Etobicoke The Kingsway\n\nM8X Etobicoke Montgomery Road\n\nM8X Etobicoke Old Mill North\n\nM9X Not assigned Not assigned\n\nM1Y Not assigned Not assigned\n\nM2Y Not assigned Not assigned\n\nM3Y Not assigned Not assigned\n\nM4Y Downtown Toronto Church and Wellesley\n\nM5Y Not assigned Not assigned\n\nM6Y Not assigned Not assigned\n\nM7Y East Toronto Business Reply Mail Processing Centre 969 Eastern\n\nM8Y Etobicoke Humber Bay\n\nM8Y Etobicoke King's Mill Park\n\nM8Y Etobicoke Kingsway Park South East\n\nM8Y Etobicoke Mimico NE\n\nM8Y Etobicoke Old Mill South\n\nM8Y Etobicoke The Queensway East\n\nM8Y Etobicoke Royal York South East\n\nM8Y Etobicoke Sunnylea\n\nM9Y Not assigned Not assigned\n\nM1Z Not assigned Not assigned\n\nM2Z Not assigned Not assigned\n\nM3Z Not assigned Not assigned\n\nM4Z Not assigned Not assigned\n\nM5Z Not assigned Not assigned\n\nM6Z Not assigned Not assigned\n\nM7Z Not assigned Not assigned\n\nM8Z Etobicoke Kingsway Park South West\n\nM8Z Etobicoke Mimico NW\n\nM8Z Etobicoke The Queensway West\n\nM8Z Etobicoke Royal York South West\n\nM8Z Etobicoke South of Bloor\n\nM9Z Not assigned Not assigned\n\n"
                }, 
                {
                    "output_type": "error", 
                    "evalue": "list index out of range", 
                    "traceback": [
                        "\u001b[0;31m---------------------------------------------------------------------------\u001b[0m", 
                        "\u001b[0;31mIndexError\u001b[0m                                Traceback (most recent call last)", 
                        "\u001b[0;32m<ipython-input-6-353dab9356ab>\u001b[0m in \u001b[0;36m<module>\u001b[0;34m()\u001b[0m\n\u001b[1;32m      3\u001b[0m \u001b[0;32mfor\u001b[0m \u001b[0mtr\u001b[0m \u001b[0;32min\u001b[0m \u001b[0msoup\u001b[0m\u001b[0;34m.\u001b[0m\u001b[0mfind_all\u001b[0m\u001b[0;34m(\u001b[0m\u001b[0;34m'tr'\u001b[0m\u001b[0;34m)\u001b[0m\u001b[0;34m[\u001b[0m\u001b[0;36m1\u001b[0m\u001b[0;34m:\u001b[0m\u001b[0;34m]\u001b[0m\u001b[0;34m:\u001b[0m\u001b[0;34m\u001b[0m\u001b[0m\n\u001b[1;32m      4\u001b[0m     \u001b[0mtds\u001b[0m \u001b[0;34m=\u001b[0m \u001b[0mtr\u001b[0m\u001b[0;34m.\u001b[0m\u001b[0mfind_all\u001b[0m\u001b[0;34m(\u001b[0m\u001b[0;34m'td'\u001b[0m\u001b[0;34m)\u001b[0m\u001b[0;34m\u001b[0m\u001b[0m\n\u001b[0;32m----> 5\u001b[0;31m     \u001b[0mmy_str\u001b[0m \u001b[0;34m=\u001b[0m \u001b[0mtds\u001b[0m\u001b[0;34m[\u001b[0m\u001b[0;36m2\u001b[0m\u001b[0;34m]\u001b[0m\u001b[0;34m.\u001b[0m\u001b[0mtext\u001b[0m\u001b[0;34m.\u001b[0m\u001b[0mreplace\u001b[0m\u001b[0;34m(\u001b[0m\u001b[0;34m'\\n'\u001b[0m\u001b[0;34m,\u001b[0m \u001b[0;34m''\u001b[0m\u001b[0;34m)\u001b[0m\u001b[0;34m\u001b[0m\u001b[0m\n\u001b[0m\u001b[1;32m      6\u001b[0m     \u001b[0mCACodeDf\u001b[0m\u001b[0;34m.\u001b[0m\u001b[0mloc\u001b[0m\u001b[0;34m[\u001b[0m\u001b[0mi\u001b[0m\u001b[0;34m]\u001b[0m \u001b[0;34m=\u001b[0m \u001b[0;34m[\u001b[0m\u001b[0mtds\u001b[0m\u001b[0;34m[\u001b[0m\u001b[0;36m0\u001b[0m\u001b[0;34m]\u001b[0m\u001b[0;34m.\u001b[0m\u001b[0mtext\u001b[0m\u001b[0;34m]\u001b[0m\u001b[0;34m+\u001b[0m \u001b[0;34m[\u001b[0m\u001b[0mtds\u001b[0m\u001b[0;34m[\u001b[0m\u001b[0;36m1\u001b[0m\u001b[0;34m]\u001b[0m\u001b[0;34m.\u001b[0m\u001b[0mtext\u001b[0m\u001b[0;34m]\u001b[0m \u001b[0;34m+\u001b[0m \u001b[0;34m[\u001b[0m\u001b[0mmy_str\u001b[0m\u001b[0;34m]\u001b[0m\u001b[0;34m\u001b[0m\u001b[0m\n\u001b[1;32m      7\u001b[0m     \u001b[0mi\u001b[0m \u001b[0;34m=\u001b[0m \u001b[0mi\u001b[0m \u001b[0;34m+\u001b[0m\u001b[0;36m1\u001b[0m\u001b[0;34m\u001b[0m\u001b[0m\n", 
                        "\u001b[0;31mIndexError\u001b[0m: list index out of range"
                    ], 
                    "ename": "IndexError"
                }
            ], 
            "execution_count": 6
        }, 
        {
            "source": "CACodeDf.head(10)", 
            "cell_type": "code", 
            "metadata": {}, 
            "outputs": [
                {
                    "output_type": "execute_result", 
                    "data": {
                        "text/html": "<div>\n<style scoped>\n    .dataframe tbody tr th:only-of-type {\n        vertical-align: middle;\n    }\n\n    .dataframe tbody tr th {\n        vertical-align: top;\n    }\n\n    .dataframe thead th {\n        text-align: right;\n    }\n</style>\n<table border=\"1\" class=\"dataframe\">\n  <thead>\n    <tr style=\"text-align: right;\">\n      <th></th>\n      <th>PostalCode</th>\n      <th>Borough</th>\n      <th>Neighborhood</th>\n    </tr>\n  </thead>\n  <tbody>\n    <tr>\n      <th>0</th>\n      <td>M1A</td>\n      <td>Not assigned</td>\n      <td>Not assigned</td>\n    </tr>\n    <tr>\n      <th>1</th>\n      <td>M2A</td>\n      <td>Not assigned</td>\n      <td>Not assigned</td>\n    </tr>\n    <tr>\n      <th>2</th>\n      <td>M3A</td>\n      <td>North York</td>\n      <td>Parkwoods</td>\n    </tr>\n    <tr>\n      <th>3</th>\n      <td>M4A</td>\n      <td>North York</td>\n      <td>Victoria Village</td>\n    </tr>\n    <tr>\n      <th>4</th>\n      <td>M5A</td>\n      <td>Downtown Toronto</td>\n      <td>Harbourfront</td>\n    </tr>\n    <tr>\n      <th>5</th>\n      <td>M5A</td>\n      <td>Downtown Toronto</td>\n      <td>Regent Park</td>\n    </tr>\n    <tr>\n      <th>6</th>\n      <td>M6A</td>\n      <td>North York</td>\n      <td>Lawrence Heights</td>\n    </tr>\n    <tr>\n      <th>7</th>\n      <td>M6A</td>\n      <td>North York</td>\n      <td>Lawrence Manor</td>\n    </tr>\n    <tr>\n      <th>8</th>\n      <td>M7A</td>\n      <td>Queen's Park</td>\n      <td>Not assigned</td>\n    </tr>\n    <tr>\n      <th>9</th>\n      <td>M8A</td>\n      <td>Not assigned</td>\n      <td>Not assigned</td>\n    </tr>\n  </tbody>\n</table>\n</div>", 
                        "text/plain": "  PostalCode           Borough      Neighborhood\n0        M1A      Not assigned      Not assigned\n1        M2A      Not assigned      Not assigned\n2        M3A        North York         Parkwoods\n3        M4A        North York  Victoria Village\n4        M5A  Downtown Toronto      Harbourfront\n5        M5A  Downtown Toronto       Regent Park\n6        M6A        North York  Lawrence Heights\n7        M6A        North York    Lawrence Manor\n8        M7A      Queen's Park      Not assigned\n9        M8A      Not assigned      Not assigned"
                    }, 
                    "execution_count": 7, 
                    "metadata": {}
                }
            ], 
            "execution_count": 7
        }, 
        {
            "source": "CACodeDf.shape", 
            "cell_type": "code", 
            "metadata": {}, 
            "outputs": [
                {
                    "output_type": "execute_result", 
                    "data": {
                        "text/plain": "(288, 3)"
                    }, 
                    "execution_count": 8, 
                    "metadata": {}
                }
            ], 
            "execution_count": 8
        }, 
        {
            "source": "#Now , since we have dataframe filled with all necessary data, we should clear it from inappropriate rows\nCACodeDf = CACodeDf[CACodeDf.Borough != \"Not assigned\"]\nCACodeDf.head(10) ", 
            "cell_type": "code", 
            "metadata": {}, 
            "outputs": [
                {
                    "output_type": "execute_result", 
                    "data": {
                        "text/html": "<div>\n<style scoped>\n    .dataframe tbody tr th:only-of-type {\n        vertical-align: middle;\n    }\n\n    .dataframe tbody tr th {\n        vertical-align: top;\n    }\n\n    .dataframe thead th {\n        text-align: right;\n    }\n</style>\n<table border=\"1\" class=\"dataframe\">\n  <thead>\n    <tr style=\"text-align: right;\">\n      <th></th>\n      <th>PostalCode</th>\n      <th>Borough</th>\n      <th>Neighborhood</th>\n    </tr>\n  </thead>\n  <tbody>\n    <tr>\n      <th>2</th>\n      <td>M3A</td>\n      <td>North York</td>\n      <td>Parkwoods</td>\n    </tr>\n    <tr>\n      <th>3</th>\n      <td>M4A</td>\n      <td>North York</td>\n      <td>Victoria Village</td>\n    </tr>\n    <tr>\n      <th>4</th>\n      <td>M5A</td>\n      <td>Downtown Toronto</td>\n      <td>Harbourfront</td>\n    </tr>\n    <tr>\n      <th>5</th>\n      <td>M5A</td>\n      <td>Downtown Toronto</td>\n      <td>Regent Park</td>\n    </tr>\n    <tr>\n      <th>6</th>\n      <td>M6A</td>\n      <td>North York</td>\n      <td>Lawrence Heights</td>\n    </tr>\n    <tr>\n      <th>7</th>\n      <td>M6A</td>\n      <td>North York</td>\n      <td>Lawrence Manor</td>\n    </tr>\n    <tr>\n      <th>8</th>\n      <td>M7A</td>\n      <td>Queen's Park</td>\n      <td>Not assigned</td>\n    </tr>\n    <tr>\n      <th>10</th>\n      <td>M9A</td>\n      <td>Etobicoke</td>\n      <td>Islington Avenue</td>\n    </tr>\n    <tr>\n      <th>11</th>\n      <td>M1B</td>\n      <td>Scarborough</td>\n      <td>Rouge</td>\n    </tr>\n    <tr>\n      <th>12</th>\n      <td>M1B</td>\n      <td>Scarborough</td>\n      <td>Malvern</td>\n    </tr>\n  </tbody>\n</table>\n</div>", 
                        "text/plain": "   PostalCode           Borough      Neighborhood\n2         M3A        North York         Parkwoods\n3         M4A        North York  Victoria Village\n4         M5A  Downtown Toronto      Harbourfront\n5         M5A  Downtown Toronto       Regent Park\n6         M6A        North York  Lawrence Heights\n7         M6A        North York    Lawrence Manor\n8         M7A      Queen's Park      Not assigned\n10        M9A         Etobicoke  Islington Avenue\n11        M1B       Scarborough             Rouge\n12        M1B       Scarborough           Malvern"
                    }, 
                    "execution_count": 9, 
                    "metadata": {}
                }
            ], 
            "execution_count": 9
        }, 
        {
            "source": "CACodeDf.shape", 
            "cell_type": "code", 
            "metadata": {}, 
            "outputs": [
                {
                    "output_type": "execute_result", 
                    "data": {
                        "text/plain": "(211, 3)"
                    }, 
                    "execution_count": 10, 
                    "metadata": {}
                }
            ], 
            "execution_count": 10
        }, 
        {
            "source": "CACodeDf.loc[CACodeDf['Neighborhood'] == \"Not assigned\", ['Neighborhood']] = CACodeDf['Borough']\nCACodeDf.head()", 
            "cell_type": "code", 
            "metadata": {}, 
            "outputs": [
                {
                    "output_type": "execute_result", 
                    "data": {
                        "text/html": "<div>\n<style scoped>\n    .dataframe tbody tr th:only-of-type {\n        vertical-align: middle;\n    }\n\n    .dataframe tbody tr th {\n        vertical-align: top;\n    }\n\n    .dataframe thead th {\n        text-align: right;\n    }\n</style>\n<table border=\"1\" class=\"dataframe\">\n  <thead>\n    <tr style=\"text-align: right;\">\n      <th></th>\n      <th>PostalCode</th>\n      <th>Borough</th>\n      <th>Neighborhood</th>\n    </tr>\n  </thead>\n  <tbody>\n    <tr>\n      <th>2</th>\n      <td>M3A</td>\n      <td>North York</td>\n      <td>Parkwoods</td>\n    </tr>\n    <tr>\n      <th>3</th>\n      <td>M4A</td>\n      <td>North York</td>\n      <td>Victoria Village</td>\n    </tr>\n    <tr>\n      <th>4</th>\n      <td>M5A</td>\n      <td>Downtown Toronto</td>\n      <td>Harbourfront</td>\n    </tr>\n    <tr>\n      <th>5</th>\n      <td>M5A</td>\n      <td>Downtown Toronto</td>\n      <td>Regent Park</td>\n    </tr>\n    <tr>\n      <th>6</th>\n      <td>M6A</td>\n      <td>North York</td>\n      <td>Lawrence Heights</td>\n    </tr>\n  </tbody>\n</table>\n</div>", 
                        "text/plain": "  PostalCode           Borough      Neighborhood\n2        M3A        North York         Parkwoods\n3        M4A        North York  Victoria Village\n4        M5A  Downtown Toronto      Harbourfront\n5        M5A  Downtown Toronto       Regent Park\n6        M6A        North York  Lawrence Heights"
                    }, 
                    "execution_count": 11, 
                    "metadata": {}
                }
            ], 
            "execution_count": 11
        }, 
        {
            "source": "CACodeDf.shape", 
            "cell_type": "code", 
            "metadata": {}, 
            "outputs": [
                {
                    "output_type": "execute_result", 
                    "data": {
                        "text/plain": "(211, 3)"
                    }, 
                    "execution_count": 12, 
                    "metadata": {}
                }
            ], 
            "execution_count": 12
        }, 
        {
            "source": "df = CACodeDf[['PostalCode','Borough']]\n#df.drop_duplicates()\ndf=df.drop_duplicates(['PostalCode','Borough'])[['PostalCode','Borough']]\ndf['Neighborhood'] = df.apply(lambda row: \"\", axis=1)\ndf.head(10)\n#df.shape", 
            "cell_type": "code", 
            "metadata": {}, 
            "outputs": [
                {
                    "output_type": "execute_result", 
                    "data": {
                        "text/html": "<div>\n<style scoped>\n    .dataframe tbody tr th:only-of-type {\n        vertical-align: middle;\n    }\n\n    .dataframe tbody tr th {\n        vertical-align: top;\n    }\n\n    .dataframe thead th {\n        text-align: right;\n    }\n</style>\n<table border=\"1\" class=\"dataframe\">\n  <thead>\n    <tr style=\"text-align: right;\">\n      <th></th>\n      <th>PostalCode</th>\n      <th>Borough</th>\n      <th>Neighborhood</th>\n    </tr>\n  </thead>\n  <tbody>\n    <tr>\n      <th>2</th>\n      <td>M3A</td>\n      <td>North York</td>\n      <td></td>\n    </tr>\n    <tr>\n      <th>3</th>\n      <td>M4A</td>\n      <td>North York</td>\n      <td></td>\n    </tr>\n    <tr>\n      <th>4</th>\n      <td>M5A</td>\n      <td>Downtown Toronto</td>\n      <td></td>\n    </tr>\n    <tr>\n      <th>6</th>\n      <td>M6A</td>\n      <td>North York</td>\n      <td></td>\n    </tr>\n    <tr>\n      <th>8</th>\n      <td>M7A</td>\n      <td>Queen's Park</td>\n      <td></td>\n    </tr>\n    <tr>\n      <th>10</th>\n      <td>M9A</td>\n      <td>Etobicoke</td>\n      <td></td>\n    </tr>\n    <tr>\n      <th>11</th>\n      <td>M1B</td>\n      <td>Scarborough</td>\n      <td></td>\n    </tr>\n    <tr>\n      <th>14</th>\n      <td>M3B</td>\n      <td>North York</td>\n      <td></td>\n    </tr>\n    <tr>\n      <th>15</th>\n      <td>M4B</td>\n      <td>East York</td>\n      <td></td>\n    </tr>\n    <tr>\n      <th>17</th>\n      <td>M5B</td>\n      <td>Downtown Toronto</td>\n      <td></td>\n    </tr>\n  </tbody>\n</table>\n</div>", 
                        "text/plain": "   PostalCode           Borough Neighborhood\n2         M3A        North York             \n3         M4A        North York             \n4         M5A  Downtown Toronto             \n6         M6A        North York             \n8         M7A      Queen's Park             \n10        M9A         Etobicoke             \n11        M1B       Scarborough             \n14        M3B        North York             \n15        M4B         East York             \n17        M5B  Downtown Toronto             "
                    }, 
                    "execution_count": 20, 
                    "metadata": {}
                }
            ], 
            "execution_count": 20
        }, 
        {
            "source": "for index, row in df.iterrows():\n    my_str = ''\n    for index2, row2 in CACodeDf.iterrows():\n        if row2['PostalCode'] == row['PostalCode'] and row2['Borough'] == row['Borough']:\n            my_str = row2['Neighborhood']+\",\"+my_str\n    row['Neighborhood'] = my_str[:-1]\ndf.head(30)     ", 
            "cell_type": "code", 
            "metadata": {}, 
            "outputs": [
                {
                    "output_type": "execute_result", 
                    "data": {
                        "text/html": "<div>\n<style scoped>\n    .dataframe tbody tr th:only-of-type {\n        vertical-align: middle;\n    }\n\n    .dataframe tbody tr th {\n        vertical-align: top;\n    }\n\n    .dataframe thead th {\n        text-align: right;\n    }\n</style>\n<table border=\"1\" class=\"dataframe\">\n  <thead>\n    <tr style=\"text-align: right;\">\n      <th></th>\n      <th>PostalCode</th>\n      <th>Borough</th>\n      <th>Neighborhood</th>\n    </tr>\n  </thead>\n  <tbody>\n    <tr>\n      <th>2</th>\n      <td>M3A</td>\n      <td>North York</td>\n      <td>Parkwoods</td>\n    </tr>\n    <tr>\n      <th>3</th>\n      <td>M4A</td>\n      <td>North York</td>\n      <td>Victoria Village</td>\n    </tr>\n    <tr>\n      <th>4</th>\n      <td>M5A</td>\n      <td>Downtown Toronto</td>\n      <td>Regent Park,Harbourfront</td>\n    </tr>\n    <tr>\n      <th>6</th>\n      <td>M6A</td>\n      <td>North York</td>\n      <td>Lawrence Manor,Lawrence Heights</td>\n    </tr>\n    <tr>\n      <th>8</th>\n      <td>M7A</td>\n      <td>Queen's Park</td>\n      <td>Queen's Park</td>\n    </tr>\n    <tr>\n      <th>10</th>\n      <td>M9A</td>\n      <td>Etobicoke</td>\n      <td>Islington Avenue</td>\n    </tr>\n    <tr>\n      <th>11</th>\n      <td>M1B</td>\n      <td>Scarborough</td>\n      <td>Malvern,Rouge</td>\n    </tr>\n    <tr>\n      <th>14</th>\n      <td>M3B</td>\n      <td>North York</td>\n      <td>Don Mills North</td>\n    </tr>\n    <tr>\n      <th>15</th>\n      <td>M4B</td>\n      <td>East York</td>\n      <td>Parkview Hill,Woodbine Gardens</td>\n    </tr>\n    <tr>\n      <th>17</th>\n      <td>M5B</td>\n      <td>Downtown Toronto</td>\n      <td>Garden District,Ryerson</td>\n    </tr>\n    <tr>\n      <th>19</th>\n      <td>M6B</td>\n      <td>North York</td>\n      <td>Glencairn</td>\n    </tr>\n    <tr>\n      <th>22</th>\n      <td>M9B</td>\n      <td>Etobicoke</td>\n      <td>West Deane Park,Princess Gardens,Martin Grove,...</td>\n    </tr>\n    <tr>\n      <th>27</th>\n      <td>M1C</td>\n      <td>Scarborough</td>\n      <td>Port Union,Rouge Hill,Highland Creek</td>\n    </tr>\n    <tr>\n      <th>31</th>\n      <td>M3C</td>\n      <td>North York</td>\n      <td>Don Mills South,Flemingdon Park</td>\n    </tr>\n    <tr>\n      <th>33</th>\n      <td>M4C</td>\n      <td>East York</td>\n      <td>Woodbine Heights</td>\n    </tr>\n    <tr>\n      <th>34</th>\n      <td>M5C</td>\n      <td>Downtown Toronto</td>\n      <td>St. James Town</td>\n    </tr>\n    <tr>\n      <th>35</th>\n      <td>M6C</td>\n      <td>York</td>\n      <td>Humewood-Cedarvale</td>\n    </tr>\n    <tr>\n      <th>38</th>\n      <td>M9C</td>\n      <td>Etobicoke</td>\n      <td>Old Burnhamthorpe,Markland Wood,Eringate,Bloor...</td>\n    </tr>\n    <tr>\n      <th>42</th>\n      <td>M1E</td>\n      <td>Scarborough</td>\n      <td>West Hill,Morningside,Guildwood</td>\n    </tr>\n    <tr>\n      <th>47</th>\n      <td>M4E</td>\n      <td>East Toronto</td>\n      <td>The Beaches</td>\n    </tr>\n    <tr>\n      <th>48</th>\n      <td>M5E</td>\n      <td>Downtown Toronto</td>\n      <td>Berczy Park</td>\n    </tr>\n    <tr>\n      <th>49</th>\n      <td>M6E</td>\n      <td>York</td>\n      <td>Caledonia-Fairbanks</td>\n    </tr>\n    <tr>\n      <th>53</th>\n      <td>M1G</td>\n      <td>Scarborough</td>\n      <td>Woburn</td>\n    </tr>\n    <tr>\n      <th>56</th>\n      <td>M4G</td>\n      <td>East York</td>\n      <td>Leaside</td>\n    </tr>\n    <tr>\n      <th>57</th>\n      <td>M5G</td>\n      <td>Downtown Toronto</td>\n      <td>Central Bay Street</td>\n    </tr>\n    <tr>\n      <th>58</th>\n      <td>M6G</td>\n      <td>Downtown Toronto</td>\n      <td>Christie</td>\n    </tr>\n    <tr>\n      <th>62</th>\n      <td>M1H</td>\n      <td>Scarborough</td>\n      <td>Cedarbrae</td>\n    </tr>\n    <tr>\n      <th>63</th>\n      <td>M2H</td>\n      <td>North York</td>\n      <td>Hillcrest Village</td>\n    </tr>\n    <tr>\n      <th>64</th>\n      <td>M3H</td>\n      <td>North York</td>\n      <td>Wilson Heights,Downsview North,Bathurst Manor</td>\n    </tr>\n    <tr>\n      <th>67</th>\n      <td>M4H</td>\n      <td>East York</td>\n      <td>Thorncliffe Park</td>\n    </tr>\n  </tbody>\n</table>\n</div>", 
                        "text/plain": "   PostalCode           Borough  \\\n2         M3A        North York   \n3         M4A        North York   \n4         M5A  Downtown Toronto   \n6         M6A        North York   \n8         M7A      Queen's Park   \n10        M9A         Etobicoke   \n11        M1B       Scarborough   \n14        M3B        North York   \n15        M4B         East York   \n17        M5B  Downtown Toronto   \n19        M6B        North York   \n22        M9B         Etobicoke   \n27        M1C       Scarborough   \n31        M3C        North York   \n33        M4C         East York   \n34        M5C  Downtown Toronto   \n35        M6C              York   \n38        M9C         Etobicoke   \n42        M1E       Scarborough   \n47        M4E      East Toronto   \n48        M5E  Downtown Toronto   \n49        M6E              York   \n53        M1G       Scarborough   \n56        M4G         East York   \n57        M5G  Downtown Toronto   \n58        M6G  Downtown Toronto   \n62        M1H       Scarborough   \n63        M2H        North York   \n64        M3H        North York   \n67        M4H         East York   \n\n                                         Neighborhood  \n2                                           Parkwoods  \n3                                    Victoria Village  \n4                            Regent Park,Harbourfront  \n6                     Lawrence Manor,Lawrence Heights  \n8                                        Queen's Park  \n10                                   Islington Avenue  \n11                                      Malvern,Rouge  \n14                                    Don Mills North  \n15                     Parkview Hill,Woodbine Gardens  \n17                            Garden District,Ryerson  \n19                                          Glencairn  \n22  West Deane Park,Princess Gardens,Martin Grove,...  \n27               Port Union,Rouge Hill,Highland Creek  \n31                    Don Mills South,Flemingdon Park  \n33                                   Woodbine Heights  \n34                                     St. James Town  \n35                                 Humewood-Cedarvale  \n38  Old Burnhamthorpe,Markland Wood,Eringate,Bloor...  \n42                    West Hill,Morningside,Guildwood  \n47                                        The Beaches  \n48                                        Berczy Park  \n49                                Caledonia-Fairbanks  \n53                                             Woburn  \n56                                            Leaside  \n57                                 Central Bay Street  \n58                                           Christie  \n62                                          Cedarbrae  \n63                                  Hillcrest Village  \n64      Wilson Heights,Downsview North,Bathurst Manor  \n67                                   Thorncliffe Park  "
                    }, 
                    "execution_count": 30, 
                    "metadata": {}
                }
            ], 
            "execution_count": 30
        }, 
        {
            "source": "", 
            "cell_type": "code", 
            "metadata": {}, 
            "outputs": [], 
            "execution_count": null
        }
    ], 
    "metadata": {
        "kernelspec": {
            "display_name": "Python 3.5", 
            "name": "python3", 
            "language": "python"
        }, 
        "language_info": {
            "mimetype": "text/x-python", 
            "nbconvert_exporter": "python", 
            "version": "3.5.5", 
            "name": "python", 
            "file_extension": ".py", 
            "pygments_lexer": "ipython3", 
            "codemirror_mode": {
                "version": 3, 
                "name": "ipython"
            }
        }
    }, 
    "nbformat": 4
}